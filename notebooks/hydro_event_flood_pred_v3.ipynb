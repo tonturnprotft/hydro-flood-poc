{
 "cells": [
  {
   "cell_type": "markdown",
   "id": "ba00d0b2",
   "metadata": {},
   "source": [
    "# Hydrological Flood‑Hour Classifier – **v3**  \n",
    "*Generated 2025-08-06 22:55*\n",
    "\n",
    "**Changes vs v2**\n",
    "1. Flood label = station‑specific 92ᵗʰ percentile discharge.\n",
    "2. Extra features: 1‑12 h discharge lags **and** 1‑ & 3‑hour discharge rate‑of‑change.\n",
    "3. Model: **XGBoost** with `scale_pos_weight` to handle imbalance.\n",
    "4. Threshold‑sweep table to pick desired recall vs precision.\n",
    "\n",
    "Run all cells top‑to‑bottom inside VS Code. The notebook auto‑installs `xgboost` if missing."
   ]
  },
  {
   "cell_type": "code",
   "execution_count": 1,
   "id": "3a9041ee",
   "metadata": {},
   "outputs": [
    {
     "name": "stdout",
     "output_type": "stream",
     "text": [
      "Installing imbalanced-learn...\n"
     ]
    }
   ],
   "source": [
    "# Auto‑install xgboost & imbalanced‑learn if they aren't present\n",
    "import importlib, subprocess, sys, warnings, os\n",
    "for pkg in ['xgboost', 'imbalanced-learn']:\n",
    "    if importlib.util.find_spec(pkg) is None:\n",
    "        print(f\"Installing {pkg}...\")\n",
    "        subprocess.check_call([sys.executable, \"-m\", \"pip\", \"install\", \"-q\", pkg])\n"
   ]
  },
  {
   "cell_type": "code",
   "execution_count": 2,
   "id": "5d9cfa60",
   "metadata": {},
   "outputs": [],
   "source": [
    "import pandas as pd, numpy as np, matplotlib.pyplot as plt\n",
    "from pathlib import Path\n",
    "from xgboost import XGBClassifier\n",
    "from sklearn.metrics import classification_report, precision_recall_curve, average_precision_score\n",
    "from sklearn.model_selection import train_test_split\n",
    "import warnings\n",
    "warnings.filterwarnings('ignore')\n"
   ]
  },
  {
   "cell_type": "code",
   "execution_count": 3,
   "id": "b112b4b1",
   "metadata": {},
   "outputs": [],
   "source": [
    "# ── CONFIG ────────────────────────────────────────────────────────────\n",
    "PROJECT_ROOT = Path.cwd() if (Path.cwd() / 'data').exists() else Path.cwd().parent\n",
    "DATA_RAW     = PROJECT_ROOT / 'data' / 'raw'\n",
    "STATIONS     = ['D08A071', 'D08A084', 'D08A115']\n",
    "ROLL_WINDOWS = [3, 6, 12]\n",
    "LAG_HRS      = range(1, 13)          # 1‑12 h\n",
    "PERCENTILE   = 0.92\n",
    "TEST_FRAC    = 0.2\n",
    "RANDOM_SEED  = 42\n",
    "# ──────────────────────────────────────────────────────────────────────\n"
   ]
  },
  {
   "cell_type": "code",
   "execution_count": 4,
   "id": "cdefc46c",
   "metadata": {},
   "outputs": [],
   "source": [
    "def find_csv(code):\n",
    "    folder = DATA_RAW / f'station_{code}'\n",
    "    matches = list(folder.glob('*.csv'))\n",
    "    assert len(matches)==1, f'{code}: not exactly one csv found'\n",
    "    return matches[0]\n",
    "\n",
    "def load_station(code):\n",
    "    df = pd.read_csv(find_csv(code))\n",
    "    df['datetime'] = pd.to_datetime(df['saatlik'])\n",
    "    df = (df.rename(columns={'yagis_toplam':'rain_mm','qdeger':'discharge_cms'})\n",
    "            .set_index('datetime')\n",
    "            .sort_index()\n",
    "            .resample('h')\n",
    "            .agg({'rain_mm':'sum','discharge_cms':'mean'}) )\n",
    "    df['station'] = code\n",
    "    return df\n"
   ]
  },
  {
   "cell_type": "code",
   "execution_count": 5,
   "id": "f95213dc",
   "metadata": {},
   "outputs": [
    {
     "name": "stdout",
     "output_type": "stream",
     "text": [
      "Shape: (251649, 3)\n"
     ]
    }
   ],
   "source": [
    "# Load all stations\n",
    "frames = [load_station(c) for c in STATIONS]\n",
    "full   = pd.concat(frames, keys=STATIONS, names=['station','datetime'])\n",
    "print('Shape:', full.shape)\n"
   ]
  },
  {
   "cell_type": "code",
   "execution_count": 6,
   "id": "3b74b634",
   "metadata": {},
   "outputs": [
    {
     "name": "stdout",
     "output_type": "stream",
     "text": [
      "After FE: (79459, 20)\n"
     ]
    }
   ],
   "source": [
    "# ── Feature engineering ───────────────────────────────────────────────\n",
    "fe = full.copy()\n",
    "\n",
    "# rainfall rolling sums\n",
    "for w in ROLL_WINDOWS:\n",
    "    fe[f'rain_sum_{w}h'] = (\n",
    "        fe.groupby(level='station')['rain_mm']\n",
    "          .rolling(w, min_periods=1).sum().values\n",
    "    )\n",
    "\n",
    "# discharge lags\n",
    "for l in LAG_HRS:\n",
    "    fe[f'dis_lag_{l}h'] = fe.groupby(level='station')['discharge_cms'].shift(l)\n",
    "\n",
    "# discharge rate of change\n",
    "fe['dis_rate_1h'] = fe.groupby(level='station')['discharge_cms'].diff(1)\n",
    "fe['dis_rate_3h'] = fe.groupby(level='station')['discharge_cms'].diff(3)\n",
    "\n",
    "fe = fe.dropna()\n",
    "print('After FE:', fe.shape)\n"
   ]
  },
  {
   "cell_type": "code",
   "execution_count": 7,
   "id": "fb72f02f",
   "metadata": {},
   "outputs": [
    {
     "name": "stdout",
     "output_type": "stream",
     "text": [
      "Flood distribution: {0: 73384, 1: 6075}\n"
     ]
    }
   ],
   "source": [
    "# ── Label floods ──────────────────────────────────────────────────────\n",
    "thr = fe.groupby(level='station')['discharge_cms'].quantile(PERCENTILE)\n",
    "fe['flood'] = (fe['discharge_cms'] >\n",
    "               fe.index.get_level_values('station').map(thr)).astype(int)\n",
    "print('Flood distribution:', fe['flood'].value_counts().to_dict())\n"
   ]
  },
  {
   "cell_type": "code",
   "execution_count": 8,
   "id": "0ad7aea2",
   "metadata": {},
   "outputs": [
    {
     "name": "stdout",
     "output_type": "stream",
     "text": [
      "Train size (63567, 18) Positives 4374\n",
      "Test  size (15892, 18) Positives 1701\n"
     ]
    }
   ],
   "source": [
    "# ── Train/test split ──────────────────────────────────────────────────\n",
    "feature_cols = [c for c in fe.columns if c.startswith(('rain_','dis_lag','dis_rate'))]\n",
    "X = fe[feature_cols]\n",
    "y = fe['flood']\n",
    "\n",
    "split = int(len(fe)*(1-TEST_FRAC))\n",
    "X_train, y_train = X.iloc[:split], y.iloc[:split]\n",
    "X_test,  y_test  = X.iloc[split:],  y.iloc[split:]\n",
    "\n",
    "print('Train size', X_train.shape, 'Positives', y_train.sum())\n",
    "print('Test  size', X_test.shape,  'Positives', y_test.sum())\n"
   ]
  },
  {
   "cell_type": "code",
   "execution_count": 9,
   "id": "8b8dc962",
   "metadata": {},
   "outputs": [
    {
     "data": {
      "text/html": [
       "<div>\n",
       "<style scoped>\n",
       "    .dataframe tbody tr th:only-of-type {\n",
       "        vertical-align: middle;\n",
       "    }\n",
       "\n",
       "    .dataframe tbody tr th {\n",
       "        vertical-align: top;\n",
       "    }\n",
       "\n",
       "    .dataframe thead th {\n",
       "        text-align: right;\n",
       "    }\n",
       "</style>\n",
       "<table border=\"1\" class=\"dataframe\">\n",
       "  <thead>\n",
       "    <tr style=\"text-align: right;\">\n",
       "      <th></th>\n",
       "      <th>prec</th>\n",
       "      <th>rec</th>\n",
       "      <th>f1</th>\n",
       "      <th>PR-AUC</th>\n",
       "      <th>flood_hours</th>\n",
       "    </tr>\n",
       "    <tr>\n",
       "      <th>station</th>\n",
       "      <th></th>\n",
       "      <th></th>\n",
       "      <th></th>\n",
       "      <th></th>\n",
       "      <th></th>\n",
       "    </tr>\n",
       "  </thead>\n",
       "  <tbody>\n",
       "    <tr>\n",
       "      <th>D08A071</th>\n",
       "      <td>0.99</td>\n",
       "      <td>1.000</td>\n",
       "      <td>0.995</td>\n",
       "      <td>1.000</td>\n",
       "      <td>497</td>\n",
       "    </tr>\n",
       "    <tr>\n",
       "      <th>D08A084</th>\n",
       "      <td>1.00</td>\n",
       "      <td>0.998</td>\n",
       "      <td>0.999</td>\n",
       "      <td>1.000</td>\n",
       "      <td>524</td>\n",
       "    </tr>\n",
       "    <tr>\n",
       "      <th>D08A115</th>\n",
       "      <td>1.00</td>\n",
       "      <td>0.941</td>\n",
       "      <td>0.970</td>\n",
       "      <td>0.997</td>\n",
       "      <td>17</td>\n",
       "    </tr>\n",
       "  </tbody>\n",
       "</table>\n",
       "</div>"
      ],
      "text/plain": [
       "         prec    rec     f1  PR-AUC  flood_hours\n",
       "station                                         \n",
       "D08A071  0.99  1.000  0.995   1.000          497\n",
       "D08A084  1.00  0.998  0.999   1.000          524\n",
       "D08A115  1.00  0.941  0.970   0.997           17"
      ]
     },
     "execution_count": 9,
     "metadata": {},
     "output_type": "execute_result"
    }
   ],
   "source": [
    "# ╔═══════════════════════════════════════════════════════════════════╗\n",
    "# ║  Per-station XGBoost models (quick step-1 experiment)            ║\n",
    "# ╚═══════════════════════════════════════════════════════════════════╝\n",
    "from xgboost import XGBClassifier\n",
    "from sklearn.metrics import classification_report, average_precision_score\n",
    "import pandas as pd, numpy as np\n",
    "\n",
    "STATION_MODELS = {}\n",
    "rows = []\n",
    "\n",
    "for code in STATIONS:\n",
    "    # ➊ slice one station (index level)\n",
    "    df = fe.xs(code, level='station')\n",
    "    X = df[feature_cols];  y = df['flood']\n",
    "    \n",
    "    # ➋ time-based split (same TEST_FRAC)\n",
    "    split = int(len(df) * (1 - TEST_FRAC))\n",
    "    X_tr, X_te = X.iloc[:split], X.iloc[split:]\n",
    "    y_tr, y_te = y.iloc[:split], y.iloc[split:]\n",
    "\n",
    "    neg, pos = np.bincount(y_tr)\n",
    "    scale_pos = neg / pos\n",
    "    \n",
    "    # ➌ simple-but-strong XGB config\n",
    "    clf = XGBClassifier(\n",
    "        objective='binary:logistic',\n",
    "        eval_metric='aucpr',\n",
    "        learning_rate=0.05,\n",
    "        n_estimators=800,\n",
    "        max_depth=6,\n",
    "        subsample=0.8,\n",
    "        colsample_bytree=0.8,\n",
    "        random_state=42,\n",
    "        scale_pos_weight=scale_pos,\n",
    "        n_jobs=-1,\n",
    "    )\n",
    "    clf.fit(X_tr, y_tr)\n",
    "    STATION_MODELS[code] = clf   # save\n",
    "\n",
    "    y_prob = clf.predict_proba(X_te)[:, 1]\n",
    "    y_pred = (y_prob > 0.50).astype(int)\n",
    "\n",
    "    rpt = classification_report(y_te, y_pred, output_dict=True)\n",
    "    pr_auc = average_precision_score(y_te, y_prob)\n",
    "    rows.append(\n",
    "        {\n",
    "            \"station\": code,\n",
    "            \"prec\": round(rpt[\"1\"][\"precision\"], 3),\n",
    "            \"rec\":  round(rpt[\"1\"][\"recall\"],    3),\n",
    "            \"f1\":   round(rpt[\"1\"][\"f1-score\"],  3),\n",
    "            \"PR-AUC\": round(pr_auc, 3),\n",
    "            \"flood_hours\": int(y_te.sum()),\n",
    "        }\n",
    "    )\n",
    "\n",
    "pd.DataFrame(rows).set_index(\"station\")"
   ]
  },
  {
   "cell_type": "code",
   "execution_count": 10,
   "id": "53336759",
   "metadata": {},
   "outputs": [
    {
     "name": "stdout",
     "output_type": "stream",
     "text": [
      "              precision    recall  f1-score   support\n",
      "\n",
      "           0      1.000     0.867     0.929     14191\n",
      "           1      0.473     0.999     0.642      1701\n",
      "\n",
      "    accuracy                          0.881     15892\n",
      "   macro avg      0.737     0.933     0.785     15892\n",
      "weighted avg      0.944     0.881     0.898     15892\n",
      "\n",
      "PR‑AUC: 0.9210372634422967\n"
     ]
    }
   ],
   "source": [
    "# ── Fit XGBoost ───────────────────────────────────────────────────────\n",
    "neg, pos = np.bincount(y_train)\n",
    "scale_pos = neg / pos\n",
    "clf = XGBClassifier(\n",
    "    objective='binary:logistic',\n",
    "    eval_metric='logloss',\n",
    "    learning_rate=0.05,\n",
    "    n_estimators=550,\n",
    "    max_depth=6,\n",
    "    subsample=0.8,\n",
    "    colsample_bytree=0.8,\n",
    "    random_state=42,\n",
    "    scale_pos_weight=scale_pos,\n",
    "    n_jobs=-1,\n",
    ")\n",
    "clf.fit(X_train, y_train)\n",
    "\n",
    "y_prob = clf.predict_proba(X_test)[:,1]\n",
    "y_pred = (y_prob > 0.5).astype(int)\n",
    "min_len = 2\n",
    "clean_pred = y_pred.copy()\n",
    "run = 0\n",
    "for i, val in enumerate(y_pred):\n",
    "    if val == 1:\n",
    "        run += 1\n",
    "    else:\n",
    "        if run < min_len:\n",
    "            clean_pred[i-run:i] = 0   # wipe short spike\n",
    "        run = 0\n",
    "\n",
    "print(classification_report(y_test, y_pred, digits=3))\n",
    "print('PR‑AUC:', average_precision_score(y_test, y_prob))\n"
   ]
  },
  {
   "cell_type": "markdown",
   "id": "6a556e3d",
   "metadata": {},
   "source": []
  },
  {
   "cell_type": "code",
   "execution_count": 16,
   "id": "63a5de24",
   "metadata": {},
   "outputs": [
    {
     "name": "stdout",
     "output_type": "stream",
     "text": [
      "Accuracy        : 0.881\n",
      "Precision (pos) : 0.473\n",
      "Recall    (pos) : 0.999\n",
      "Confusion matrix:\n",
      " [[12299  1892]\n",
      " [    1  1700]]\n"
     ]
    }
   ],
   "source": [
    "from sklearn.metrics import (\n",
    "    accuracy_score,\n",
    "    precision_score,\n",
    "    recall_score,\n",
    "    confusion_matrix\n",
    ")\n",
    "\n",
    "# basic point-metrics at your chosen threshold (0.005 here)\n",
    "acc  = accuracy_score(y_test, y_pred)\n",
    "prec = precision_score(y_test, y_pred)\n",
    "rec  = recall_score(y_test, y_pred)\n",
    "cm   = confusion_matrix(y_test, y_pred)\n",
    "\n",
    "print(f\"Accuracy        : {acc:0.3f}\")\n",
    "print(f\"Precision (pos) : {prec:0.3f}\")\n",
    "print(f\"Recall    (pos) : {rec:0.3f}\")\n",
    "print(\"Confusion matrix:\\n\", cm)"
   ]
  },
  {
   "cell_type": "code",
   "execution_count": 12,
   "id": "d4abb5fb",
   "metadata": {},
   "outputs": [
    {
     "name": "stdout",
     "output_type": "stream",
     "text": [
      "         thr  precision  recall\n",
      "0   0.000001      0.107     1.0\n",
      "1   0.000008      0.107     1.0\n",
      "2   0.000009      0.107     1.0\n",
      "3   0.000009      0.107     1.0\n",
      "4   0.000009      0.107     1.0\n",
      "5   0.000010      0.107     1.0\n",
      "6   0.000011      0.107     1.0\n",
      "7   0.000012      0.107     1.0\n",
      "8   0.000013      0.107     1.0\n",
      "9   0.000014      0.107     1.0\n",
      "10  0.000014      0.107     1.0\n",
      "11  0.000014      0.107     1.0\n",
      "12  0.000014      0.107     1.0\n",
      "13  0.000015      0.107     1.0\n",
      "14  0.000016      0.107     1.0\n"
     ]
    }
   ],
   "source": [
    "# ── Threshold sweep table ─────────────────────────────────────────────\n",
    "prec, rec, thr = precision_recall_curve(y_test, y_prob)\n",
    "rows = []\n",
    "for p,r,t in zip(prec, rec, thr):\n",
    "    rows.append({'thr': round(t,10), 'precision': round(p,3), 'recall': round(r,3)})\n",
    "sweep = pd.DataFrame(rows)\n",
    "print(sweep[sweep['recall']>=0.80].head(15))\n"
   ]
  },
  {
   "cell_type": "code",
   "execution_count": 13,
   "id": "45f409b5",
   "metadata": {},
   "outputs": [
    {
     "data": {
      "image/png": "[encoded data removed]",
      "text/plain": [
       "<Figure size 400x400 with 1 Axes>"
      ]
     },
     "metadata": {},
     "output_type": "display_data"
    }
   ],
   "source": [
    "# ── Optional PR curve ────────────────────────────────────────────────\n",
    "plt.figure(figsize=(4,4))\n",
    "plt.plot(rec, prec)\n",
    "plt.xlabel('Recall'); plt.ylabel('Precision')\n",
    "plt.title('PR curve (AP={:.2f})'.format(average_precision_score(y_test, y_prob)))\n",
    "plt.show()\n"
   ]
  }
 ],
 "metadata": {
  "kernelspec": {
   "display_name": ".venv",
   "language": "python",
   "name": "python3"
  },
  "language_info": {
   "codemirror_mode": {
    "name": "ipython",
    "version": 3
   },
   "file_extension": ".py",
   "mimetype": "text/x-python",
   "name": "python",
   "nbconvert_exporter": "python",
   "pygments_lexer": "ipython3",
   "version": "3.12.5"
  }
 },
 "nbformat": 4,
 "nbformat_minor": 5
}
