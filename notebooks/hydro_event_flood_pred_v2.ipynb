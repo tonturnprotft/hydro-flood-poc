{
 "cells": [
  {
   "cell_type": "markdown",
   "id": "cf066973",
   "metadata": {},
   "source": [
    "# Hydrological Flood‑Hour Classifier – **v2**\n",
    "*Generated 2025-08-06 22:28*\n",
    "\n",
    "Updates vs v1:\n",
    "1. **Flood label** = discharge above each station’s **90ᵗʰ percentile** (data‑driven).\n",
    "2. Added **1–6 h discharge lags** as features.\n",
    "3. Uses **BalancedRandomForest** (from `imblearn`) to handle class imbalance.\n",
    "4. Reports **precision/recall/F1** and **PR‑AUC**.\n",
    "\n",
    "Run the notebook top‑to‑bottom. If `imblearn` isn’t installed, the code will fall back to a weighted `RandomForestClassifier`.\n"
   ]
  },
  {
   "cell_type": "code",
   "execution_count": 1,
   "id": "52a5920b",
   "metadata": {},
   "outputs": [],
   "source": [
    "# Install imbalanced-learn if missing\n",
    "try:\n",
    "    import imblearn\n",
    "except ImportError:\n",
    "    import subprocess, sys, importlib\n",
    "    print(\"⚠️  imbalanced-learn not found – installing...\")\n",
    "    subprocess.check_call([sys.executable, \"-m\", \"pip\", \"install\", \"-q\", \"imbalanced-learn\"])\n",
    "    importlib.invalidate_caches()\n"
   ]
  },
  {
   "cell_type": "code",
   "execution_count": 2,
   "id": "95cb2ffc",
   "metadata": {},
   "outputs": [],
   "source": [
    "import pandas as pd, numpy as np, matplotlib.pyplot as plt\n",
    "from pathlib import Path\n",
    "from sklearn.metrics import classification_report, confusion_matrix, average_precision_score, PrecisionRecallDisplay\n",
    "from sklearn.ensemble import RandomForestClassifier\n",
    "\n",
    "from imblearn.ensemble import BalancedRandomForestClassifier\n",
    "\n",
    "# ── CONFIG ──────────────────────────────────────────────────────────────\n",
    "PROJECT_ROOT = Path.cwd() if (Path.cwd() / 'data').exists() else Path.cwd().parent\n",
    "DATA_RAW = PROJECT_ROOT / 'data' / 'raw'\n",
    "STATIONS = ['D08A071', 'D08A084', 'D08A115']         # extend as needed\n",
    "ROLL_WINDOWS = [3, 6, 12]                            # rainfall sums (h)\n",
    "LAG_HRS = range(1, 7)                                # discharge lags 1–6h\n",
    "TEST_SPLIT_FRAC = 0.2\n",
    "PERCENTILE = 0.90                                    # flood threshold per station\n",
    "# ────────────────────────────────────────────────────────────────────────\n",
    "\n",
    "def find_csv(code: str) -> Path:\n",
    "    folder = DATA_RAW / f'station_{code}'\n",
    "    matches = list(folder.glob('*.csv'))\n",
    "    assert len(matches) == 1, f\"{code}: expected 1 csv, found {matches}\"\n",
    "    return matches[0]\n",
    "\n",
    "def load_station(code: str) -> pd.DataFrame:\n",
    "    p = find_csv(code)\n",
    "\n",
    "    df = pd.read_csv(p)\n",
    "    df['datetime'] = pd.to_datetime(df['saatlik'])\n",
    "\n",
    "    df = (\n",
    "        df.rename(columns={'yagis_toplam': 'rain_mm',\n",
    "                           'qdeger':       'discharge_cms'})\n",
    "          .set_index('datetime')        # ← make DatetimeIndex\n",
    "          .sort_index()\n",
    "          .resample('h')                # ← now safe\n",
    "          .agg({'rain_mm': 'sum',\n",
    "                'discharge_cms': 'mean'})\n",
    "    )\n",
    "\n",
    "    df['station'] = code\n",
    "    return df"
   ]
  },
  {
   "cell_type": "code",
   "execution_count": 3,
   "id": "ddec6078",
   "metadata": {},
   "outputs": [
    {
     "name": "stdout",
     "output_type": "stream",
     "text": [
      "Total duplicate timestamps in concatenated DF: 0\n"
     ]
    },
    {
     "data": {
      "text/html": [
       "<div>\n",
       "<style scoped>\n",
       "    .dataframe tbody tr th:only-of-type {\n",
       "        vertical-align: middle;\n",
       "    }\n",
       "\n",
       "    .dataframe tbody tr th {\n",
       "        vertical-align: top;\n",
       "    }\n",
       "\n",
       "    .dataframe thead th {\n",
       "        text-align: right;\n",
       "    }\n",
       "</style>\n",
       "<table border=\"1\" class=\"dataframe\">\n",
       "  <thead>\n",
       "    <tr style=\"text-align: right;\">\n",
       "      <th></th>\n",
       "      <th></th>\n",
       "      <th>rain_mm</th>\n",
       "      <th>discharge_cms</th>\n",
       "      <th>station</th>\n",
       "    </tr>\n",
       "    <tr>\n",
       "      <th>station</th>\n",
       "      <th>datetime</th>\n",
       "      <th></th>\n",
       "      <th></th>\n",
       "      <th></th>\n",
       "    </tr>\n",
       "  </thead>\n",
       "  <tbody>\n",
       "    <tr>\n",
       "      <th rowspan=\"5\" valign=\"top\">D08A071</th>\n",
       "      <th>2014-01-01 00:00:00</th>\n",
       "      <td>0.0</td>\n",
       "      <td>0.728</td>\n",
       "      <td>D08A071</td>\n",
       "    </tr>\n",
       "    <tr>\n",
       "      <th>2014-01-01 01:00:00</th>\n",
       "      <td>0.0</td>\n",
       "      <td>0.728</td>\n",
       "      <td>D08A071</td>\n",
       "    </tr>\n",
       "    <tr>\n",
       "      <th>2014-01-01 02:00:00</th>\n",
       "      <td>0.0</td>\n",
       "      <td>0.728</td>\n",
       "      <td>D08A071</td>\n",
       "    </tr>\n",
       "    <tr>\n",
       "      <th>2014-01-01 03:00:00</th>\n",
       "      <td>0.0</td>\n",
       "      <td>0.728</td>\n",
       "      <td>D08A071</td>\n",
       "    </tr>\n",
       "    <tr>\n",
       "      <th>2014-01-01 04:00:00</th>\n",
       "      <td>0.0</td>\n",
       "      <td>0.728</td>\n",
       "      <td>D08A071</td>\n",
       "    </tr>\n",
       "  </tbody>\n",
       "</table>\n",
       "</div>"
      ],
      "text/plain": [
       "                             rain_mm  discharge_cms  station\n",
       "station datetime                                            \n",
       "D08A071 2014-01-01 00:00:00      0.0          0.728  D08A071\n",
       "        2014-01-01 01:00:00      0.0          0.728  D08A071\n",
       "        2014-01-01 02:00:00      0.0          0.728  D08A071\n",
       "        2014-01-01 03:00:00      0.0          0.728  D08A071\n",
       "        2014-01-01 04:00:00      0.0          0.728  D08A071"
      ]
     },
     "execution_count": 3,
     "metadata": {},
     "output_type": "execute_result"
    }
   ],
   "source": [
    "# Load & concatenate\n",
    "frames = [load_station(c) for c in STATIONS]\n",
    "full = pd.concat(frames, keys=STATIONS, names=['station', 'datetime'])\n",
    "# ensure regular hourly index within each station block\n",
    "dupes = full.index.duplicated().sum()\n",
    "print(\"Total duplicate timestamps in concatenated DF:\", dupes)\n",
    "full.head()\n"
   ]
  },
  {
   "cell_type": "code",
   "execution_count": 4,
   "id": "9026870c",
   "metadata": {},
   "outputs": [],
   "source": [
    "\n",
    "if 'station' in full.columns:\n",
    "    full = full.drop(columns='station')\n",
    "\n",
    "# ── Feature engineering ───────────────────────────────\n",
    "fe = full.copy()\n",
    "\n",
    "# rainfall rolling sums\n",
    "for w in ROLL_WINDOWS:\n",
    "    fe[f'rain_sum_{w}h'] = (\n",
    "        fe.groupby(level='station')['rain_mm']          # ← note level=\n",
    "          .rolling(w, min_periods=1).sum().values\n",
    "    )\n",
    "\n",
    "# discharge lags\n",
    "for l in LAG_HRS:\n",
    "    fe[f'dis_lag_{l}h'] = (\n",
    "        fe.groupby(level='station')['discharge_cms']\n",
    "          .shift(l)\n",
    "    )\n",
    "\n",
    "fe = fe.dropna()"
   ]
  },
  {
   "cell_type": "code",
   "execution_count": 6,
   "id": "0ec0cbb7",
   "metadata": {},
   "outputs": [
    {
     "name": "stdout",
     "output_type": "stream",
     "text": [
      "Flood-hour counts: {0: 81322, 1: 8858}\n"
     ]
    }
   ],
   "source": [
    "# ── Label floods by 90th percentile per station ───────────────────────\n",
    "# 1) threshold Series indexed by station level\n",
    "thr = fe.groupby(level='station')['discharge_cms'].quantile(PERCENTILE)\n",
    "\n",
    "# 2) vectorised comparison\n",
    "fe['flood'] = (\n",
    "    fe['discharge_cms'] >\n",
    "    fe.index.get_level_values('station').map(thr)\n",
    ").astype(int)\n",
    "\n",
    "print(\"Flood-hour counts:\", fe['flood'].value_counts().to_dict())"
   ]
  },
  {
   "cell_type": "code",
   "execution_count": 7,
   "id": "a4818057",
   "metadata": {},
   "outputs": [
    {
     "name": "stdout",
     "output_type": "stream",
     "text": [
      "Train shape (72144, 10) Positives 6371\n",
      "Test  shape (18036, 10) Positives 2487\n"
     ]
    }
   ],
   "source": [
    "# ── Train/test split (time-based) ──────────────────────────────────────\n",
    "split_idx = int(len(fe) * (1 - TEST_SPLIT_FRAC))\n",
    "train, test = fe.iloc[:split_idx], fe.iloc[split_idx:]\n",
    "\n",
    "FEATURES = [c for c in fe.columns if c.startswith('rain_') or c.startswith('dis_lag')]\n",
    "X_train, y_train = train[FEATURES], train['flood']\n",
    "X_test,  y_test  = test[FEATURES],  test['flood']\n",
    "\n",
    "print('Train shape', X_train.shape, 'Positives', y_train.sum())\n",
    "print('Test  shape', X_test.shape,  'Positives', y_test.sum())\n"
   ]
  },
  {
   "cell_type": "code",
   "execution_count": 8,
   "id": "b8e1d734",
   "metadata": {},
   "outputs": [
    {
     "name": "stdout",
     "output_type": "stream",
     "text": [
      "== BalancedRandomForest ==\n",
      "              precision    recall  f1-score   support\n",
      "\n",
      "           0      0.984     0.751     0.852     15549\n",
      "           1      0.372     0.922     0.530      2487\n",
      "\n",
      "    accuracy                          0.775     18036\n",
      "   macro avg      0.678     0.836     0.691     18036\n",
      "weighted avg      0.899     0.775     0.807     18036\n",
      "\n",
      "PR‑AUC: 0.49207934057559616\n",
      "Confusion matrix:\n",
      " [[11680  3869]\n",
      " [  195  2292]]\n"
     ]
    }
   ],
   "source": [
    "# ── Fit model ──────────────────────────────────────────────────────────\n",
    "try:\n",
    "    clf = BalancedRandomForestClassifier(\n",
    "        n_estimators=400,\n",
    "        random_state=42,\n",
    "        n_jobs=-1,\n",
    "        sampling_strategy='auto'\n",
    "    )\n",
    "    model_name = 'BalancedRandomForest'\n",
    "except Exception as e:\n",
    "    print(\"BalancedRandomForest unavailable, falling back to RandomForest with class_weight.\")\n",
    "    clf = RandomForestClassifier(\n",
    "        n_estimators=400,\n",
    "        random_state=42,\n",
    "        class_weight={0:1, 1:len(y_train)/y_train.sum()}   # rough balance\n",
    "    )\n",
    "    model_name = 'RandomForestWeighted'\n",
    "\n",
    "clf.fit(X_train, y_train)\n",
    "y_pred = clf.predict(X_test)\n",
    "y_prob = clf.predict_proba(X_test)[:,1]\n",
    "\n",
    "print(f\"== {model_name} ==\")\n",
    "print(classification_report(y_test, y_pred, digits=3))\n",
    "print(\"PR‑AUC:\", average_precision_score(y_test, y_prob))\n",
    "\n",
    "print(\"Confusion matrix:\\n\", confusion_matrix(y_test, y_pred))\n"
   ]
  },
  {
   "cell_type": "code",
   "execution_count": 9,
   "id": "57a9361c",
   "metadata": {},
   "outputs": [
    {
     "data": {
      "image/png": "[encoded data removed]",
      "text/plain": [
       "<Figure size 640x480 with 1 Axes>"
      ]
     },
     "metadata": {},
     "output_type": "display_data"
    }
   ],
   "source": [
    "# ── Optional: visualise Precision‑Recall curve ─────────────────────────\n",
    "disp = PrecisionRecallDisplay.from_predictions(y_test, y_prob)\n",
    "_ = disp.ax_.set_title(\"Precision‑Recall curve\")\n"
   ]
  },
  {
   "cell_type": "markdown",
   "id": "eada6e97",
   "metadata": {},
   "source": [
    "## Next ideas\n",
    "* Tune `PERCENTILE` (e.g., 0.85 if floods still rare).\n",
    "* Add rate‑of‑change features: `rain_mm.diff()`, `discharge_cms.diff()`.\n",
    "* Try GradientBoosting or XGBoost with `scale_pos_weight`.\n",
    "* If stations behave differently, train per‑station models.\n"
   ]
  }
 ],
 "metadata": {
  "kernelspec": {
   "display_name": ".venv",
   "language": "python",
   "name": "python3"
  },
  "language_info": {
   "codemirror_mode": {
    "name": "ipython",
    "version": 3
   },
   "file_extension": ".py",
   "mimetype": "text/x-python",
   "name": "python",
   "nbconvert_exporter": "python",
   "pygments_lexer": "ipython3",
   "version": "3.12.5"
  }
 },
 "nbformat": 4,
 "nbformat_minor": 5
}
