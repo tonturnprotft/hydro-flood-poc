{
 "cells": [
  {
   "cell_type": "markdown",
   "id": "6dc17292",
   "metadata": {},
   "source": [
    "# Threshold Playground – Per‑Station Flood Tuning\n",
    "*Generated 2025-08-07 13:10*\n",
    "\n",
    "This notebook starts from the **v4 per‑station XGB models** (70 / 30 split) and lets you\n",
    "interactively test decision thresholds for each station until you’re happy with the\n",
    "false‑positive / false‑negative trade‑off."
   ]
  },
  {
   "cell_type": "code",
   "execution_count": 1,
   "id": "cfcd3af4",
   "metadata": {},
   "outputs": [],
   "source": [
    "# Auto‑install xgboost if needed\n",
    "import importlib, subprocess, sys, warnings, os, datetime\n",
    "if importlib.util.find_spec('xgboost') is None:\n",
    "    subprocess.check_call([sys.executable, \"-m\", \"pip\", \"install\", \"-q\", \"xgboost\"])\n",
    "warnings.filterwarnings('ignore')\n"
   ]
  },
  {
   "cell_type": "code",
   "execution_count": 2,
   "id": "f5fcb595",
   "metadata": {},
   "outputs": [],
   "source": [
    "import pandas as pd, numpy as np\n",
    "from pathlib import Path\n",
    "from xgboost import XGBClassifier\n",
    "from sklearn.metrics import confusion_matrix, precision_score, recall_score\n",
    "import matplotlib.pyplot as plt\n"
   ]
  },
  {
   "cell_type": "code",
   "execution_count": 3,
   "id": "ddc75af6",
   "metadata": {},
   "outputs": [],
   "source": [
    "# CONFIG – adjust if your folder names differ\n",
    "PROJECT_ROOT = Path.cwd() if (Path.cwd()/'data').exists() else Path.cwd().parent\n",
    "DATA_RAW = PROJECT_ROOT/'data'/'raw'\n",
    "STATIONS = ['D08A071','D08A084','D08A115']\n",
    "ROLL_WINDOWS=[3,6,12]\n",
    "LAG_HRS=range(1,13)\n",
    "API_WINDOW=24*7\n",
    "PERCENTILE=0.82            # original v4 flood definition\n",
    "SEED=42\n"
   ]
  },
  {
   "cell_type": "code",
   "execution_count": 4,
   "id": "1a1931b4",
   "metadata": {},
   "outputs": [],
   "source": [
    "def load_station(code):\n",
    "    csv = list((DATA_RAW/f'station_{code}').glob('*.csv'))[0]\n",
    "    df = pd.read_csv(csv)\n",
    "    df['datetime'] = pd.to_datetime(df['saatlik'])\n",
    "    df = (df.rename(columns={'yagis_toplam':'rain_mm','qdeger':'discharge_cms'})\n",
    "            .set_index('datetime').sort_index()\n",
    "            .resample('h').agg({'rain_mm':'sum','discharge_cms':'mean'}))\n",
    "    return df\n",
    "\n",
    "def build_features(df):\n",
    "    st=df.copy()\n",
    "    for w in ROLL_WINDOWS:\n",
    "        st[f'rain_sum_{w}h']=st['rain_mm'].rolling(w,1).sum()\n",
    "    for l in LAG_HRS:\n",
    "        st[f'dis_lag_{l}h']=st['discharge_cms'].shift(l)\n",
    "    st['dis_rate_1h']=st['discharge_cms'].diff(1)\n",
    "    st['dis_rate_3h']=st['discharge_cms'].diff(3)\n",
    "    st['API7']=st['rain_mm'].rolling(API_WINDOW,1).sum()\n",
    "    st.dropna(inplace=True)\n",
    "    thr = st['discharge_cms'].quantile(PERCENTILE)\n",
    "    st['flood'] = (st['discharge_cms']>thr).astype(int)\n",
    "    return st\n"
   ]
  },
  {
   "cell_type": "markdown",
   "id": "6d9830bc",
   "metadata": {},
   "source": [
    "## 1. Fit per‑station XGB models & save test probabilities"
   ]
  },
  {
   "cell_type": "code",
   "execution_count": 5,
   "id": "53a81da0",
   "metadata": {},
   "outputs": [
    {
     "name": "stdout",
     "output_type": "stream",
     "text": [
      "Saved probability vectors for: ['D08A071', 'D08A084', 'D08A115']\n"
     ]
    }
   ],
   "source": [
    "from sklearn.model_selection import train_test_split\n",
    "probs_dict = {}\n",
    "ytrue_dict = {}\n",
    "MODELS = {}\n",
    "\n",
    "for code in STATIONS:\n",
    "    df = build_features(load_station(code))\n",
    "    cols = [c for c in df.columns if c.startswith(('rain_sum','dis_lag','dis_rate','API'))]\n",
    "    X, y = df[cols], df['flood']\n",
    "\n",
    "    # ▶ random 70 / 30 stratified split ◀\n",
    "    X_train, X_test, y_train, y_test = train_test_split(\n",
    "        X, y, test_size=0.30, random_state=SEED, stratify=y\n",
    "    )\n",
    "\n",
    "    neg,pos = np.bincount(y_train)\n",
    "    clf = XGBClassifier(\n",
    "        learning_rate=0.05, n_estimators=800, max_depth=6,\n",
    "        subsample=0.8, colsample_bytree=0.8, random_state=SEED,\n",
    "        scale_pos_weight=neg/pos, eval_metric='aucpr'\n",
    "    )\n",
    "    clf.fit(X_train, y_train)\n",
    "\n",
    "    MODELS[code] = clf\n",
    "    probs_dict[code] = clf.predict_proba(X_test)[:,1]\n",
    "    ytrue_dict[code] = y_test\n",
    "\n",
    "print(\"Saved probability vectors for:\", list(probs_dict.keys()))\n"
   ]
  },
  {
   "cell_type": "markdown",
   "id": "6e742180",
   "metadata": {},
   "source": [
    "## 2. Helper utilities"
   ]
  },
  {
   "cell_type": "code",
   "execution_count": 6,
   "id": "2b623dd2",
   "metadata": {},
   "outputs": [],
   "source": [
    "def eval_thr(code, thr):\n",
    "    probs = probs_dict[code]\n",
    "    y     = ytrue_dict[code]\n",
    "    pred  = (probs > thr).astype(int)\n",
    "    tn, fp, fn, tp = confusion_matrix(y, pred, labels=[0,1]).ravel()\n",
    "    prec = precision_score(y, pred, zero_division=1)\n",
    "    rec  = recall_score(y, pred, zero_division=0)\n",
    "    return fp, fn, prec, rec\n",
    "\n",
    "def plot_hist(code):\n",
    "    probs = probs_dict[code]\n",
    "    y     = ytrue_dict[code]\n",
    "    plt.figure(figsize=(4,2))\n",
    "    plt.hist(probs[y==0], bins=50, alpha=0.4, label='non‑flood')\n",
    "    plt.hist(probs[y==1], bins=50, alpha=0.4, label='flood')\n",
    "    plt.title(f\"{code} – probability distribution\")\n",
    "    plt.legend(); plt.show()\n"
   ]
  },
  {
   "cell_type": "markdown",
   "id": "fcf93b74",
   "metadata": {},
   "source": [
    "### Example: inspect distributions & try thresholds"
   ]
  },
  {
   "cell_type": "code",
   "execution_count": 7,
   "id": "a773dda4",
   "metadata": {},
   "outputs": [
    {
     "data": {
      "image/png": "[encoded data removed]",
      "text/plain": [
       "<Figure size 400x200 with 1 Axes>"
      ]
     },
     "metadata": {},
     "output_type": "display_data"
    },
    {
     "name": "stdout",
     "output_type": "stream",
     "text": [
      "== D08A071 ==\n",
      "thr= 0.01  FP=8   FN=0    prec=0.994  rec=1.000\n",
      "thr= 0.05  FP=4   FN=0    prec=0.997  rec=1.000\n",
      "thr=  0.1  FP=2   FN=0    prec=0.999  rec=1.000\n",
      "thr=  0.5  FP=0   FN=2    prec=1.000  rec=0.999\n",
      "thr=  0.9  FP=0   FN=4    prec=1.000  rec=0.997\n",
      "thr= 0.95  FP=0   FN=5    prec=1.000  rec=0.996\n",
      "thr= 0.98  FP=0   FN=5    prec=1.000  rec=0.996\n",
      "thr=0.995  FP=0   FN=8    prec=1.000  rec=0.994\n",
      "\n"
     ]
    },
    {
     "data": {
      "image/png": "[encoded data removed]",
      "text/plain": [
       "<Figure size 400x200 with 1 Axes>"
      ]
     },
     "metadata": {},
     "output_type": "display_data"
    },
    {
     "name": "stdout",
     "output_type": "stream",
     "text": [
      "== D08A084 ==\n",
      "thr= 0.01  FP=21  FN=0    prec=0.977  rec=1.000\n",
      "thr= 0.05  FP=10  FN=0    prec=0.989  rec=1.000\n",
      "thr=  0.1  FP=10  FN=0    prec=0.989  rec=1.000\n",
      "thr=  0.5  FP=2   FN=0    prec=0.998  rec=1.000\n",
      "thr=  0.9  FP=1   FN=3    prec=0.999  rec=0.997\n",
      "thr= 0.95  FP=1   FN=4    prec=0.999  rec=0.996\n",
      "thr= 0.98  FP=1   FN=9    prec=0.999  rec=0.990\n",
      "thr=0.995  FP=0   FN=13   prec=1.000  rec=0.985\n",
      "\n"
     ]
    },
    {
     "data": {
      "image/png": "[encoded data removed]",
      "text/plain": [
       "<Figure size 400x200 with 1 Axes>"
      ]
     },
     "metadata": {},
     "output_type": "display_data"
    },
    {
     "name": "stdout",
     "output_type": "stream",
     "text": [
      "== D08A115 ==\n",
      "thr= 0.01  FP=13  FN=0    prec=0.989  rec=1.000\n",
      "thr= 0.05  FP=8   FN=0    prec=0.993  rec=1.000\n",
      "thr=  0.1  FP=5   FN=0    prec=0.996  rec=1.000\n",
      "thr=  0.5  FP=1   FN=1    prec=0.999  rec=0.999\n",
      "thr=  0.9  FP=0   FN=2    prec=1.000  rec=0.998\n",
      "thr= 0.95  FP=0   FN=2    prec=1.000  rec=0.998\n",
      "thr= 0.98  FP=0   FN=4    prec=1.000  rec=0.997\n",
      "thr=0.995  FP=0   FN=8    prec=1.000  rec=0.993\n",
      "\n"
     ]
    }
   ],
   "source": [
    "for code in STATIONS:\n",
    "    plot_hist(code)\n",
    "    print(f\"== {code} ==\")\n",
    "    for thr in [0.01,0.05,0.10,0.5,0.9,0.95,0.98,0.995]:\n",
    "        fp, fn, p, r = eval_thr(code, thr)\n",
    "        print(f\"thr={thr:>5}  FP={fp:<3} FN={fn:<3}  prec={p:.3f}  rec={r:.3f}\")\n",
    "    print()\n"
   ]
  },
  {
   "cell_type": "code",
   "execution_count": 8,
   "id": "c6bd6549",
   "metadata": {},
   "outputs": [
    {
     "name": "stdout",
     "output_type": "stream",
     "text": [
      "\n",
      "### Random 70/30 split (stratified) – per station\n",
      "\n"
     ]
    },
    {
     "data": {
      "text/html": [
       "<div>\n",
       "<style scoped>\n",
       "    .dataframe tbody tr th:only-of-type {\n",
       "        vertical-align: middle;\n",
       "    }\n",
       "\n",
       "    .dataframe tbody tr th {\n",
       "        vertical-align: top;\n",
       "    }\n",
       "\n",
       "    .dataframe thead th {\n",
       "        text-align: right;\n",
       "    }\n",
       "</style>\n",
       "<table border=\"1\" class=\"dataframe\">\n",
       "  <thead>\n",
       "    <tr style=\"text-align: right;\">\n",
       "      <th></th>\n",
       "      <th>precision</th>\n",
       "      <th>recall</th>\n",
       "      <th>f1</th>\n",
       "      <th>PR-AUC</th>\n",
       "      <th>test_floods</th>\n",
       "    </tr>\n",
       "    <tr>\n",
       "      <th>station</th>\n",
       "      <th></th>\n",
       "      <th></th>\n",
       "      <th></th>\n",
       "      <th></th>\n",
       "      <th></th>\n",
       "    </tr>\n",
       "  </thead>\n",
       "  <tbody>\n",
       "    <tr>\n",
       "      <th>D08A071</th>\n",
       "      <td>1.000</td>\n",
       "      <td>0.999</td>\n",
       "      <td>0.999</td>\n",
       "      <td>1.0</td>\n",
       "      <td>1376</td>\n",
       "    </tr>\n",
       "    <tr>\n",
       "      <th>D08A084</th>\n",
       "      <td>0.998</td>\n",
       "      <td>1.000</td>\n",
       "      <td>0.999</td>\n",
       "      <td>1.0</td>\n",
       "      <td>891</td>\n",
       "    </tr>\n",
       "    <tr>\n",
       "      <th>D08A115</th>\n",
       "      <td>0.999</td>\n",
       "      <td>0.999</td>\n",
       "      <td>0.999</td>\n",
       "      <td>1.0</td>\n",
       "      <td>1177</td>\n",
       "    </tr>\n",
       "  </tbody>\n",
       "</table>\n",
       "</div>"
      ],
      "text/plain": [
       "         precision  recall     f1  PR-AUC  test_floods\n",
       "station                                               \n",
       "D08A071      1.000   0.999  0.999     1.0         1376\n",
       "D08A084      0.998   1.000  0.999     1.0          891\n",
       "D08A115      0.999   0.999  0.999     1.0         1177"
      ]
     },
     "execution_count": 8,
     "metadata": {},
     "output_type": "execute_result"
    }
   ],
   "source": [
    "from sklearn.model_selection import train_test_split\n",
    "from sklearn.metrics import classification_report, average_precision_score\n",
    "\n",
    "print(\"\\n### Random 70/30 split (stratified) – per station\\n\")\n",
    "rand_rows = []\n",
    "for code in STATIONS:\n",
    "    df = build_features(load_station(code))\n",
    "    feat_cols = [c for c in df.columns if c.startswith(('rain_sum','dis_lag','dis_rate','API'))]\n",
    "\n",
    "    X = df[feat_cols]\n",
    "    y = df['flood']\n",
    "\n",
    "    # stratified random split\n",
    "    X_tr, X_te, y_tr, y_te = train_test_split(\n",
    "        X, y, test_size=0.30, random_state=42, stratify=y)\n",
    "\n",
    "    neg, pos = np.bincount(y_tr)\n",
    "    clf = XGBClassifier(\n",
    "        learning_rate=0.05, n_estimators=800, max_depth=6,\n",
    "        subsample=0.8, colsample_bytree=0.8, random_state=42,\n",
    "        scale_pos_weight=neg/pos, eval_metric='aucpr')\n",
    "    clf.fit(X_tr, y_tr)\n",
    "\n",
    "    y_prob = clf.predict_proba(X_te)[:, 1]\n",
    "    y_pred = (y_prob > 0.5).astype(int)\n",
    "    rpt = classification_report(y_te, y_pred, output_dict=True)\n",
    "\n",
    "    rand_rows.append({\n",
    "        'station': code,\n",
    "        'precision': round(rpt['1']['precision'], 3),\n",
    "        'recall':    round(rpt['1']['recall'],    3),\n",
    "        'f1':        round(rpt['1']['f1-score'],  3),\n",
    "        'PR-AUC':    round(average_precision_score(y_te, y_prob), 3),\n",
    "        'test_floods': int(y_te.sum())\n",
    "    })\n",
    "\n",
    "pd.DataFrame(rand_rows).set_index('station')"
   ]
  },
  {
   "cell_type": "markdown",
   "id": "0d2e1414",
   "metadata": {},
   "source": [
    "## 3. Enter your chosen thresholds below"
   ]
  },
  {
   "cell_type": "code",
   "execution_count": 9,
   "id": "e384b4bc",
   "metadata": {},
   "outputs": [
    {
     "name": "stdout",
     "output_type": "stream",
     "text": [
      "Per‑station metrics with custom thresholds\n",
      "\n",
      "D08A071: thr=0.5  FP=0  FN=2  precision=1.000  recall=0.999\n",
      "D08A084: thr=0.5  FP=2  FN=0  precision=0.998  recall=1.000\n",
      "D08A115: thr=0.95  FP=0  FN=2  precision=1.000  recall=0.998\n",
      "\n",
      "Combined confusion matrix:\n",
      "[[20394     2]\n",
      " [    4  3440]]\n"
     ]
    }
   ],
   "source": [
    "# ← Edit these values after manual exploration\n",
    "MY_THR = {'D08A071': 0.5,\n",
    "          'D08A084': 0.5,\n",
    "          'D08A115': 0.95}\n",
    "\n",
    "overall_true = []\n",
    "overall_pred = []\n",
    "\n",
    "print(\"Per‑station metrics with custom thresholds\\n\")\n",
    "for code in STATIONS:\n",
    "    thr = MY_THR[code]\n",
    "    fp, fn, p, r = eval_thr(code, thr)\n",
    "    print(f\"{code}: thr={thr}  FP={fp}  FN={fn}  precision={p:.3f}  recall={r:.3f}\")\n",
    "    pred = (probs_dict[code] > thr).astype(int)\n",
    "    overall_true.append(ytrue_dict[code])\n",
    "    overall_pred.append(pd.Series(pred, index=ytrue_dict[code].index))\n",
    "\n",
    "print(\"\\nCombined confusion matrix:\")\n",
    "print(confusion_matrix(pd.concat(overall_true),\n",
    "                       pd.concat(overall_pred),\n",
    "                       labels=[0,1]))\n"
   ]
  }
 ],
 "metadata": {
  "kernelspec": {
   "display_name": ".venv",
   "language": "python",
   "name": "python3"
  },
  "language_info": {
   "codemirror_mode": {
    "name": "ipython",
    "version": 3
   },
   "file_extension": ".py",
   "mimetype": "text/x-python",
   "name": "python",
   "nbconvert_exporter": "python",
   "pygments_lexer": "ipython3",
   "version": "3.12.5"
  }
 },
 "nbformat": 4,
 "nbformat_minor": 5
}
