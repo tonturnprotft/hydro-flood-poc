{
  "cells": [
    {
      "cell_type": "code",
      "execution_count": 2,
      "metadata": {
        "colab": {
          "base_uri": "https://localhost:8080/"
        },
        "id": "T3nqP-rZmnWC",
        "outputId": "58828073-7423-4ce0-8d52-5ad47640dc6e"
      },
      "outputs": [],
      "source": [
        "import pandas as pd\n",
        "import os"
      ]
    },
    {
      "cell_type": "code",
      "execution_count": 3,
      "metadata": {
        "colab": {
          "base_uri": "https://localhost:8080/"
        },
        "id": "ylRaEOgL9nqz",
        "outputId": "79d7c587-554e-4485-a06d-6246bc427f31"
      },
      "outputs": [
        {
          "name": "stdout",
          "output_type": "stream",
          "text": [
            "File: ../data/raw/D08A071.csv\n",
            "         saatlik  yagis_toplam  qdeger\n",
            "0  1/1/2014 0:00           0.0   0.728\n",
            "1  1/1/2014 1:00           0.0   0.728\n",
            "2  1/1/2014 2:00           0.0   0.728\n",
            "3  1/1/2014 3:00           0.0   0.728\n",
            "4  1/1/2014 4:00           0.0   0.728\n",
            "\n",
            "==================================================\n",
            "\n",
            "File: ../data/raw/D08A084.csv\n",
            "               saatlik  yagis_toplam  qdeger\n",
            "0  2016-02-25 05:00:00           0.0   0.011\n",
            "1  2016-02-25 06:00:00           0.0   0.011\n",
            "2  2016-02-25 07:00:00           0.0   0.011\n",
            "3  2016-02-25 08:00:00           0.0   0.011\n",
            "4  2016-02-25 09:00:00           0.0   0.011\n",
            "\n",
            "==================================================\n",
            "\n",
            "File: ../data/raw/D08A115.csv\n",
            "               saatlik  yagis_toplam  qdeger\n",
            "0  2016-02-23 10:00:00           0.0   1.122\n",
            "1  2016-02-23 11:00:00           0.0   1.122\n",
            "2  2016-02-23 12:00:00           0.0   1.122\n",
            "3  2016-02-23 13:00:00           0.0   1.122\n",
            "4  2016-02-23 14:00:00           0.0   1.122\n",
            "\n",
            "==================================================\n",
            "\n"
          ]
        }
      ],
      "source": [
        "data_folder = '../data/raw'\n",
        "\n",
        "# Loading the uploaded files to inspect their contents and structure\n",
        "file_paths = []\n",
        "file_paths.append( data_folder + \"/D08A071.csv\")\n",
        "file_paths.append( data_folder + \"/D08A084.csv\")\n",
        "file_paths.append( data_folder + \"/D08A115.csv\")\n",
        "\n",
        "\n",
        "# Load CSV files\n",
        "for file in file_paths:\n",
        "    data = pd.read_csv(file)\n",
        "    print(f\"File: {file}\")\n",
        "    print(data.head())\n",
        "    print(\"\\n\" + \"=\"*50 + \"\\n\")\n",
        "\n"
      ]
    },
    {
      "cell_type": "code",
      "execution_count": 4,
      "metadata": {
        "colab": {
          "base_uri": "https://localhost:8080/"
        },
        "id": "bHWtvgAbCRVa",
        "outputId": "1c625145-0bc1-4cd9-8df9-3e28447580f0"
      },
      "outputs": [
        {
          "name": "stdout",
          "output_type": "stream",
          "text": [
            "File 1:\n",
            "                     precipitation   flow  flood\n",
            "timestamp                                       \n",
            "2014-01-01 00:00:00            0.0  0.728      0\n",
            "2014-01-01 01:00:00            0.0  0.728      0\n",
            "2014-01-01 02:00:00            0.0  0.728      0\n",
            "2014-01-01 03:00:00            0.0  0.728      0\n",
            "2014-01-01 04:00:00            0.0  0.728      0\n",
            "\n",
            "==================================================\n",
            "\n",
            "File 2:\n",
            "                     precipitation   flow  flood\n",
            "timestamp                                       \n",
            "2016-02-25 05:00:00            0.0  0.011      0\n",
            "2016-02-25 06:00:00            0.0  0.011      0\n",
            "2016-02-25 07:00:00            0.0  0.011      0\n",
            "2016-02-25 08:00:00            0.0  0.011      0\n",
            "2016-02-25 09:00:00            0.0  0.011      0\n",
            "\n",
            "==================================================\n",
            "\n",
            "File 3:\n",
            "                     precipitation   flow  flood\n",
            "timestamp                                       \n",
            "2016-02-23 10:00:00            0.0  1.122      0\n",
            "2016-02-23 11:00:00            0.0  1.122      0\n",
            "2016-02-23 12:00:00            0.0  1.122      0\n",
            "2016-02-23 13:00:00            0.0  1.122      0\n",
            "2016-02-23 14:00:00            0.0  1.122      0\n",
            "\n",
            "==================================================\n",
            "\n"
          ]
        }
      ],
      "source": [
        "# Rename columns for consistency and parse the timestamp in each CSV file\n",
        "def load_and_process_data(file_path):\n",
        "    # Load the data\n",
        "    data = pd.read_csv(file_path)\n",
        "    # Rename columns to 'timestamp' 'precipitation' and 'flow'\n",
        "    data.columns = [\"timestamp\", \"precipitation\", \"flow\"]\n",
        "    # Parse the timestamp column to datetime format\n",
        "    data[\"timestamp\"] = pd.to_datetime(data[\"timestamp\"], errors=\"coerce\", dayfirst=False)\n",
        "    # Set the timestamp as the index\n",
        "    data.set_index(\"timestamp\", inplace=True)\n",
        "    # Verifique quantidade de valores flow > threshold\n",
        "    # Resample to hourly frequency and forward-fill missing values\n",
        "    data = data.resample(\"h\").mean().ffill()\n",
        "    # Add a flood label based on the threshold\n",
        "    threshold = data[\"flow\"].quantile(0.92)\n",
        "    data[\"flood\"] = (data[\"flow\"] > threshold).astype(int)\n",
        "    return data\n",
        "\n",
        "\n",
        "# Apply this function to each of the CSV files\n",
        "data_processed = []\n",
        "for file in file_paths:\n",
        "    data_processed.append(load_and_process_data(file))\n",
        "\n",
        "# Checking the first few rows of the processed data\n",
        "for i, data in enumerate(data_processed):\n",
        "    print(f\"File {i+1}:\")\n",
        "    print(data.head())\n",
        "    print(\"\\n\" + \"=\"*50 + \"\\n\")\n"
      ]
    },
    {
      "cell_type": "code",
      "execution_count": 5,
      "metadata": {
        "colab": {
          "base_uri": "https://localhost:8080/",
          "height": 238
        },
        "id": "yI2_6IJ3CeXn",
        "outputId": "e0e936f4-6bee-4b2a-b30e-4413b4e10e20"
      },
      "outputs": [
        {
          "data": {
            "text/html": [
              "<div>\n",
              "<style scoped>\n",
              "    .dataframe tbody tr th:only-of-type {\n",
              "        vertical-align: middle;\n",
              "    }\n",
              "\n",
              "    .dataframe tbody tr th {\n",
              "        vertical-align: top;\n",
              "    }\n",
              "\n",
              "    .dataframe thead th {\n",
              "        text-align: right;\n",
              "    }\n",
              "</style>\n",
              "<table border=\"1\" class=\"dataframe\">\n",
              "  <thead>\n",
              "    <tr style=\"text-align: right;\">\n",
              "      <th></th>\n",
              "      <th>precipitation_file1</th>\n",
              "      <th>flow_file1</th>\n",
              "      <th>precipitation_file2</th>\n",
              "      <th>flow_file2</th>\n",
              "      <th>precipitation_file3</th>\n",
              "      <th>flow_file3</th>\n",
              "      <th>flood</th>\n",
              "    </tr>\n",
              "    <tr>\n",
              "      <th>timestamp</th>\n",
              "      <th></th>\n",
              "      <th></th>\n",
              "      <th></th>\n",
              "      <th></th>\n",
              "      <th></th>\n",
              "      <th></th>\n",
              "      <th></th>\n",
              "    </tr>\n",
              "  </thead>\n",
              "  <tbody>\n",
              "    <tr>\n",
              "      <th>2014-01-01 00:00:00</th>\n",
              "      <td>0.0</td>\n",
              "      <td>0.728</td>\n",
              "      <td>NaN</td>\n",
              "      <td>NaN</td>\n",
              "      <td>NaN</td>\n",
              "      <td>NaN</td>\n",
              "      <td>0.0</td>\n",
              "    </tr>\n",
              "    <tr>\n",
              "      <th>2014-01-01 01:00:00</th>\n",
              "      <td>0.0</td>\n",
              "      <td>0.728</td>\n",
              "      <td>NaN</td>\n",
              "      <td>NaN</td>\n",
              "      <td>NaN</td>\n",
              "      <td>NaN</td>\n",
              "      <td>0.0</td>\n",
              "    </tr>\n",
              "    <tr>\n",
              "      <th>2014-01-01 02:00:00</th>\n",
              "      <td>0.0</td>\n",
              "      <td>0.728</td>\n",
              "      <td>NaN</td>\n",
              "      <td>NaN</td>\n",
              "      <td>NaN</td>\n",
              "      <td>NaN</td>\n",
              "      <td>0.0</td>\n",
              "    </tr>\n",
              "    <tr>\n",
              "      <th>2014-01-01 03:00:00</th>\n",
              "      <td>0.0</td>\n",
              "      <td>0.728</td>\n",
              "      <td>NaN</td>\n",
              "      <td>NaN</td>\n",
              "      <td>NaN</td>\n",
              "      <td>NaN</td>\n",
              "      <td>0.0</td>\n",
              "    </tr>\n",
              "    <tr>\n",
              "      <th>2014-01-01 04:00:00</th>\n",
              "      <td>0.0</td>\n",
              "      <td>0.728</td>\n",
              "      <td>NaN</td>\n",
              "      <td>NaN</td>\n",
              "      <td>NaN</td>\n",
              "      <td>NaN</td>\n",
              "      <td>0.0</td>\n",
              "    </tr>\n",
              "  </tbody>\n",
              "</table>\n",
              "</div>"
            ],
            "text/plain": [
              "                     precipitation_file1  flow_file1  precipitation_file2  \\\n",
              "timestamp                                                                   \n",
              "2014-01-01 00:00:00                  0.0       0.728                  NaN   \n",
              "2014-01-01 01:00:00                  0.0       0.728                  NaN   \n",
              "2014-01-01 02:00:00                  0.0       0.728                  NaN   \n",
              "2014-01-01 03:00:00                  0.0       0.728                  NaN   \n",
              "2014-01-01 04:00:00                  0.0       0.728                  NaN   \n",
              "\n",
              "                     flow_file2  precipitation_file3  flow_file3  flood  \n",
              "timestamp                                                                \n",
              "2014-01-01 00:00:00         NaN                  NaN         NaN    0.0  \n",
              "2014-01-01 01:00:00         NaN                  NaN         NaN    0.0  \n",
              "2014-01-01 02:00:00         NaN                  NaN         NaN    0.0  \n",
              "2014-01-01 03:00:00         NaN                  NaN         NaN    0.0  \n",
              "2014-01-01 04:00:00         NaN                  NaN         NaN    0.0  "
            ]
          },
          "execution_count": 5,
          "metadata": {},
          "output_type": "execute_result"
        }
      ],
      "source": [
        "# Joining each processed dataset one by one to avoid suffix conflict\n",
        "\n",
        "# Start with the first dataset and join each subsequent one sequentially\n",
        "combined_data = data_processed[0].join(data_processed[1], rsuffix='_file2', how='outer').join(\n",
        "    data_processed[2], rsuffix='_file3', how='outer')\n",
        "\n",
        "# Rename columns for clarity\n",
        "combined_data.columns = [\n",
        "    'precipitation_file1', 'flow_file1', 'flood_file1',\n",
        "    'precipitation_file2', 'flow_file2', 'flood_file2',\n",
        "    'precipitation_file3', 'flow_file3', 'flood_file3'\n",
        "]\n",
        "\n",
        "# Create a unified flood label where any dataset's flood column indicates a flood (value 1)\n",
        "combined_data['flood'] = combined_data[\n",
        "    ['flood_file1', 'flood_file2', 'flood_file3']\n",
        "].max(axis=1)\n",
        "\n",
        "# Drop individual flood columns, retaining only the combined flood label\n",
        "combined_data = combined_data.drop(\n",
        "    columns=['flood_file1', 'flood_file2', 'flood_file3']\n",
        ")\n",
        "\n",
        "# Display the first few rows of the combined dataset\n",
        "combined_data.head()\n"
      ]
    },
    {
      "cell_type": "code",
      "execution_count": 6,
      "metadata": {
        "colab": {
          "base_uri": "https://localhost:8080/",
          "height": 238
        },
        "id": "rVzo9sHdCeUg",
        "outputId": "619f9291-433c-4f5c-ddfa-02e2bdb836e6"
      },
      "outputs": [
        {
          "data": {
            "text/html": [
              "<div>\n",
              "<style scoped>\n",
              "    .dataframe tbody tr th:only-of-type {\n",
              "        vertical-align: middle;\n",
              "    }\n",
              "\n",
              "    .dataframe tbody tr th {\n",
              "        vertical-align: top;\n",
              "    }\n",
              "\n",
              "    .dataframe thead th {\n",
              "        text-align: right;\n",
              "    }\n",
              "</style>\n",
              "<table border=\"1\" class=\"dataframe\">\n",
              "  <thead>\n",
              "    <tr style=\"text-align: right;\">\n",
              "      <th></th>\n",
              "      <th>precipitation_file1</th>\n",
              "      <th>flow_file1</th>\n",
              "      <th>precipitation_file2</th>\n",
              "      <th>flow_file2</th>\n",
              "      <th>precipitation_file3</th>\n",
              "      <th>flow_file3</th>\n",
              "      <th>flood</th>\n",
              "    </tr>\n",
              "    <tr>\n",
              "      <th>timestamp</th>\n",
              "      <th></th>\n",
              "      <th></th>\n",
              "      <th></th>\n",
              "      <th></th>\n",
              "      <th></th>\n",
              "      <th></th>\n",
              "      <th></th>\n",
              "    </tr>\n",
              "  </thead>\n",
              "  <tbody>\n",
              "    <tr>\n",
              "      <th>2014-01-01 00:00:00</th>\n",
              "      <td>0.0</td>\n",
              "      <td>0.002138</td>\n",
              "      <td>0.0</td>\n",
              "      <td>0.0</td>\n",
              "      <td>0.0</td>\n",
              "      <td>0.0</td>\n",
              "      <td>0.0</td>\n",
              "    </tr>\n",
              "    <tr>\n",
              "      <th>2014-01-01 01:00:00</th>\n",
              "      <td>0.0</td>\n",
              "      <td>0.002138</td>\n",
              "      <td>0.0</td>\n",
              "      <td>0.0</td>\n",
              "      <td>0.0</td>\n",
              "      <td>0.0</td>\n",
              "      <td>0.0</td>\n",
              "    </tr>\n",
              "    <tr>\n",
              "      <th>2014-01-01 02:00:00</th>\n",
              "      <td>0.0</td>\n",
              "      <td>0.002138</td>\n",
              "      <td>0.0</td>\n",
              "      <td>0.0</td>\n",
              "      <td>0.0</td>\n",
              "      <td>0.0</td>\n",
              "      <td>0.0</td>\n",
              "    </tr>\n",
              "    <tr>\n",
              "      <th>2014-01-01 03:00:00</th>\n",
              "      <td>0.0</td>\n",
              "      <td>0.002138</td>\n",
              "      <td>0.0</td>\n",
              "      <td>0.0</td>\n",
              "      <td>0.0</td>\n",
              "      <td>0.0</td>\n",
              "      <td>0.0</td>\n",
              "    </tr>\n",
              "    <tr>\n",
              "      <th>2014-01-01 04:00:00</th>\n",
              "      <td>0.0</td>\n",
              "      <td>0.002138</td>\n",
              "      <td>0.0</td>\n",
              "      <td>0.0</td>\n",
              "      <td>0.0</td>\n",
              "      <td>0.0</td>\n",
              "      <td>0.0</td>\n",
              "    </tr>\n",
              "  </tbody>\n",
              "</table>\n",
              "</div>"
            ],
            "text/plain": [
              "                     precipitation_file1  flow_file1  precipitation_file2  \\\n",
              "timestamp                                                                   \n",
              "2014-01-01 00:00:00                  0.0    0.002138                  0.0   \n",
              "2014-01-01 01:00:00                  0.0    0.002138                  0.0   \n",
              "2014-01-01 02:00:00                  0.0    0.002138                  0.0   \n",
              "2014-01-01 03:00:00                  0.0    0.002138                  0.0   \n",
              "2014-01-01 04:00:00                  0.0    0.002138                  0.0   \n",
              "\n",
              "                     flow_file2  precipitation_file3  flow_file3  flood  \n",
              "timestamp                                                                \n",
              "2014-01-01 00:00:00         0.0                  0.0         0.0    0.0  \n",
              "2014-01-01 01:00:00         0.0                  0.0         0.0    0.0  \n",
              "2014-01-01 02:00:00         0.0                  0.0         0.0    0.0  \n",
              "2014-01-01 03:00:00         0.0                  0.0         0.0    0.0  \n",
              "2014-01-01 04:00:00         0.0                  0.0         0.0    0.0  "
            ]
          },
          "execution_count": 6,
          "metadata": {},
          "output_type": "execute_result"
        }
      ],
      "source": [
        "from sklearn.preprocessing import MinMaxScaler\n",
        "from sklearn.model_selection import train_test_split\n",
        "\n",
        "# Filling NaN values with 0 (assuming missing data represents no observed value in those sensors)\n",
        "combined_data_filled = combined_data.fillna(0)\n",
        "\n",
        "# Separate features and target for scaling\n",
        "X = combined_data_filled.drop(columns=['flood'])\n",
        "y = combined_data_filled['flood']\n",
        "\n",
        "# Scale features to [0, 1] range using MinMaxScaler\n",
        "scaler = MinMaxScaler()\n",
        "X_scaled = scaler.fit_transform(X)\n",
        "\n",
        "# Convert scaled data back to DataFrame for clarity\n",
        "X_scaled_df = pd.DataFrame(X_scaled, index=combined_data_filled.index, columns=X.columns)\n",
        "X_scaled_df['flood'] = y  # Add the target column back\n",
        "\n",
        "# Display the first few rows of the scaled and normalized dataset\n",
        "X_scaled_df.head()\n"
      ]
    },
    {
      "cell_type": "code",
      "execution_count": 7,
      "metadata": {
        "colab": {
          "base_uri": "https://localhost:8080/"
        },
        "id": "Yvvtiyt_CeRs",
        "outputId": "abed1dae-b226-4ea9-8556-6734befbda12"
      },
      "outputs": [
        {
          "name": "stdout",
          "output_type": "stream",
          "text": [
            "flood\n",
            "0.0    57516\n",
            "1.0     9986\n",
            "Name: count, dtype: int64\n",
            "flood\n",
            "0.0    24650\n",
            "1.0     4280\n",
            "Name: count, dtype: int64\n"
          ]
        },
        {
          "data": {
            "text/plain": [
              "((67502, 6), (28930, 6), (67502,), (28930,))"
            ]
          },
          "execution_count": 7,
          "metadata": {},
          "output_type": "execute_result"
        }
      ],
      "source": [
        "from sklearn.model_selection import train_test_split\n",
        "\n",
        "# Splitting the data into features (X) and target (y)\n",
        "X = X_scaled_df.drop(columns=['flood'])\n",
        "y = X_scaled_df['flood']\n",
        "\n",
        "# Splitting into training and test sets (70% training, 30% testing)\n",
        "X_train, X_test, y_train, y_test = train_test_split(X, y, test_size=0.3, stratify=y, random_state=42)\n",
        "\n",
        "print(y_train.value_counts())\n",
        "print(y_test.value_counts())\n",
        "# Display the shapes of the resulting datasets\n",
        "X_train.shape, X_test.shape, y_train.shape, y_test.shape"
      ]
    },
    {
      "cell_type": "code",
      "execution_count": 8,
      "metadata": {
        "colab": {
          "base_uri": "https://localhost:8080/",
          "height": 238
        },
        "id": "ZVoG1iBT0n-k",
        "outputId": "fa383a3a-79ba-486c-c0da-a8eb5742e08b"
      },
      "outputs": [
        {
          "data": {
            "text/html": [
              "<div>\n",
              "<style scoped>\n",
              "    .dataframe tbody tr th:only-of-type {\n",
              "        vertical-align: middle;\n",
              "    }\n",
              "\n",
              "    .dataframe tbody tr th {\n",
              "        vertical-align: top;\n",
              "    }\n",
              "\n",
              "    .dataframe thead th {\n",
              "        text-align: right;\n",
              "    }\n",
              "</style>\n",
              "<table border=\"1\" class=\"dataframe\">\n",
              "  <thead>\n",
              "    <tr style=\"text-align: right;\">\n",
              "      <th></th>\n",
              "      <th>precipitation_file1</th>\n",
              "      <th>flow_file1</th>\n",
              "      <th>precipitation_file2</th>\n",
              "      <th>flow_file2</th>\n",
              "      <th>precipitation_file3</th>\n",
              "      <th>flow_file3</th>\n",
              "    </tr>\n",
              "    <tr>\n",
              "      <th>timestamp</th>\n",
              "      <th></th>\n",
              "      <th></th>\n",
              "      <th></th>\n",
              "      <th></th>\n",
              "      <th></th>\n",
              "      <th></th>\n",
              "    </tr>\n",
              "  </thead>\n",
              "  <tbody>\n",
              "    <tr>\n",
              "      <th>2022-06-02 15:00:00</th>\n",
              "      <td>0.0</td>\n",
              "      <td>0.000330</td>\n",
              "      <td>0.000437</td>\n",
              "      <td>0.000049</td>\n",
              "      <td>0.0</td>\n",
              "      <td>0.022613</td>\n",
              "    </tr>\n",
              "    <tr>\n",
              "      <th>2015-02-02 08:00:00</th>\n",
              "      <td>0.0</td>\n",
              "      <td>0.009676</td>\n",
              "      <td>0.000000</td>\n",
              "      <td>0.000000</td>\n",
              "      <td>0.0</td>\n",
              "      <td>0.000000</td>\n",
              "    </tr>\n",
              "    <tr>\n",
              "      <th>2018-03-04 02:00:00</th>\n",
              "      <td>0.0</td>\n",
              "      <td>0.001290</td>\n",
              "      <td>0.000000</td>\n",
              "      <td>0.004912</td>\n",
              "      <td>0.0</td>\n",
              "      <td>0.041416</td>\n",
              "    </tr>\n",
              "    <tr>\n",
              "      <th>2016-08-03 06:00:00</th>\n",
              "      <td>0.0</td>\n",
              "      <td>0.001290</td>\n",
              "      <td>0.000000</td>\n",
              "      <td>0.000000</td>\n",
              "      <td>0.0</td>\n",
              "      <td>0.007973</td>\n",
              "    </tr>\n",
              "    <tr>\n",
              "      <th>2018-03-29 08:00:00</th>\n",
              "      <td>0.0</td>\n",
              "      <td>0.001290</td>\n",
              "      <td>0.000000</td>\n",
              "      <td>0.000982</td>\n",
              "      <td>0.0</td>\n",
              "      <td>0.030648</td>\n",
              "    </tr>\n",
              "  </tbody>\n",
              "</table>\n",
              "</div>"
            ],
            "text/plain": [
              "                     precipitation_file1  flow_file1  precipitation_file2  \\\n",
              "timestamp                                                                   \n",
              "2022-06-02 15:00:00                  0.0    0.000330             0.000437   \n",
              "2015-02-02 08:00:00                  0.0    0.009676             0.000000   \n",
              "2018-03-04 02:00:00                  0.0    0.001290             0.000000   \n",
              "2016-08-03 06:00:00                  0.0    0.001290             0.000000   \n",
              "2018-03-29 08:00:00                  0.0    0.001290             0.000000   \n",
              "\n",
              "                     flow_file2  precipitation_file3  flow_file3  \n",
              "timestamp                                                         \n",
              "2022-06-02 15:00:00    0.000049                  0.0    0.022613  \n",
              "2015-02-02 08:00:00    0.000000                  0.0    0.000000  \n",
              "2018-03-04 02:00:00    0.004912                  0.0    0.041416  \n",
              "2016-08-03 06:00:00    0.000000                  0.0    0.007973  \n",
              "2018-03-29 08:00:00    0.000982                  0.0    0.030648  "
            ]
          },
          "execution_count": 8,
          "metadata": {},
          "output_type": "execute_result"
        }
      ],
      "source": [
        "X_train.head()"
      ]
    },
    {
      "cell_type": "code",
      "execution_count": 18,
      "metadata": {
        "colab": {
          "base_uri": "https://localhost:8080/",
          "height": 957
        },
        "id": "RkmwHdPq0RS2",
        "outputId": "5c4f12ac-8d96-451a-f209-3516859f7085"
      },
      "outputs": [
        {
          "data": {
            "image/png": "[encoded data removed]",
            "text/plain": [
              "<Figure size 1500x500 with 1 Axes>"
            ]
          },
          "metadata": {},
          "output_type": "display_data"
        },
        {
          "data": {
            "image/png": "[encoded data removed]",
            "text/plain": [
              "<Figure size 1500x500 with 1 Axes>"
            ]
          },
          "metadata": {},
          "output_type": "display_data"
        }
      ],
      "source": [
        "import matplotlib.pyplot as plt\n",
        "\n",
        "def visualize_time_series(df, title):\n",
        "  plt.figure(figsize=(15, 5))\n",
        "  plt.scatter(df.index, df['flow_file1'], label='File 1', s=10)\n",
        "  plt.scatter(df.index, df['flow_file2'], label='File 2', s=10)\n",
        "  plt.scatter(df.index, df['flow_file3'], label='File 3', s=10)\n",
        "  plt.scatter(df.index, df['flood'], label='Flood', color='red', marker='x', s=20)\n",
        "  plt.title(title)\n",
        "  plt.xlabel('Timestamp')\n",
        "  plt.ylabel('Value (normalized)')\n",
        "  plt.legend()\n",
        "  plt.show()\n",
        "\n",
        "# Visualize the first 5 consequent values and the label for training data\n",
        "visualize_time_series(X_train.join(y_train).iloc[:5], 'Training Data (First 5 Values)')\n",
        "\n",
        "\n",
        "# Visualize the first 5 consequent values and the label for testing data\n",
        "visualize_time_series(X_test.join(y_test).iloc[:5], 'Testing Data (First 5 Values)')"
      ]
    },
    {
      "cell_type": "code",
      "execution_count": 9,
      "metadata": {
        "colab": {
          "base_uri": "https://localhost:8080/",
          "height": 997
        },
        "id": "iYiXfZAp0EiM",
        "outputId": "40ee3636-9858-4550-ae53-4ef3de179577"
      },
      "outputs": [
        {
          "data": {
            "image/png": "[encoded data removed]",
            "text/plain": [
              "<Figure size 1000x500 with 2 Axes>"
            ]
          },
          "metadata": {},
          "output_type": "display_data"
        },
        {
          "data": {
            "image/png": "[encoded data removed]",
            "text/plain": [
              "<Figure size 1500x500 with 2 Axes>"
            ]
          },
          "metadata": {},
          "output_type": "display_data"
        }
      ],
      "source": [
        "import matplotlib.pyplot as plt\n",
        "\n",
        "# Assuming X_train, X_test, y_train, y_test are defined in the previous cell\n",
        "# Visualize the distribution of the target variable in both training and test sets\n",
        "plt.figure(figsize=(10, 5))\n",
        "plt.subplot(1, 2, 1)\n",
        "y_train.value_counts().plot(kind='bar', title='Train Dataset Flood Label Distribution')\n",
        "plt.xlabel('Flood Label')\n",
        "plt.ylabel('Count')\n",
        "\n",
        "plt.subplot(1, 2, 2)\n",
        "y_test.value_counts().plot(kind='bar', title='Test Dataset Flood Label Distribution')\n",
        "plt.xlabel('Flood Label')\n",
        "plt.ylabel('Count')\n",
        "\n",
        "plt.tight_layout()\n",
        "plt.show()\n",
        "\n",
        "# Visualize the distribution of a few features in both training and test sets (replace 'value_file1', 'value_file2' with desired features)\n",
        "plt.figure(figsize=(15, 5))\n",
        "plt.subplot(1, 2, 1)\n",
        "plt.hist(X_train['flow_file1'], bins=20, alpha=0.5, label='Train')\n",
        "plt.hist(X_test['flow_file1'], bins=20, alpha=0.5, label='Test')\n",
        "plt.xlabel('flow_file1')\n",
        "plt.ylabel('Frequency')\n",
        "plt.title('Distribution of flow_file1')\n",
        "plt.legend()\n",
        "\n",
        "plt.subplot(1, 2, 2)\n",
        "plt.hist(X_train['flow_file2'], bins=20, alpha=0.5, label='Train')\n",
        "plt.hist(X_test['flow_file2'], bins=20, alpha=0.5, label='Test')\n",
        "plt.xlabel('flow_file2')\n",
        "plt.ylabel('Frequency')\n",
        "plt.title('Distribution of flow_file2')\n",
        "plt.legend()\n",
        "\n",
        "plt.tight_layout()\n",
        "plt.show()"
      ]
    },
    {
      "cell_type": "code",
      "execution_count": 12,
      "metadata": {},
      "outputs": [
        {
          "name": "stdout",
          "output_type": "stream",
          "text": [
            "Requirement already satisfied: tensorflow in c:\\users\\caioa\\anaconda3\\lib\\site-packages (2.20.0rc0)\n",
            "Requirement already satisfied: absl-py>=1.0.0 in c:\\users\\caioa\\anaconda3\\lib\\site-packages (from tensorflow) (2.3.1)\n",
            "Requirement already satisfied: astunparse>=1.6.0 in c:\\users\\caioa\\anaconda3\\lib\\site-packages (from tensorflow) (1.6.3)\n",
            "Requirement already satisfied: flatbuffers>=24.3.25 in c:\\users\\caioa\\anaconda3\\lib\\site-packages (from tensorflow) (25.2.10)\n",
            "Requirement already satisfied: gast!=0.5.0,!=0.5.1,!=0.5.2,>=0.2.1 in c:\\users\\caioa\\anaconda3\\lib\\site-packages (from tensorflow) (0.6.0)\n",
            "Requirement already satisfied: google_pasta>=0.1.1 in c:\\users\\caioa\\anaconda3\\lib\\site-packages (from tensorflow) (0.2.0)\n",
            "Requirement already satisfied: libclang>=13.0.0 in c:\\users\\caioa\\anaconda3\\lib\\site-packages (from tensorflow) (18.1.1)\n",
            "Requirement already satisfied: opt_einsum>=2.3.2 in c:\\users\\caioa\\anaconda3\\lib\\site-packages (from tensorflow) (3.4.0)\n",
            "Requirement already satisfied: packaging in c:\\users\\caioa\\anaconda3\\lib\\site-packages (from tensorflow) (24.2)\n",
            "Requirement already satisfied: protobuf>=5.28.0 in c:\\users\\caioa\\anaconda3\\lib\\site-packages (from tensorflow) (5.29.3)\n",
            "Requirement already satisfied: requests<3,>=2.21.0 in c:\\users\\caioa\\anaconda3\\lib\\site-packages (from tensorflow) (2.32.3)\n",
            "Requirement already satisfied: setuptools in c:\\users\\caioa\\anaconda3\\lib\\site-packages (from tensorflow) (72.1.0)\n",
            "Requirement already satisfied: six>=1.12.0 in c:\\users\\caioa\\anaconda3\\lib\\site-packages (from tensorflow) (1.17.0)\n",
            "Requirement already satisfied: termcolor>=1.1.0 in c:\\users\\caioa\\anaconda3\\lib\\site-packages (from tensorflow) (3.1.0)\n",
            "Requirement already satisfied: typing_extensions>=3.6.6 in c:\\users\\caioa\\anaconda3\\lib\\site-packages (from tensorflow) (4.12.2)\n",
            "Requirement already satisfied: wrapt>=1.11.0 in c:\\users\\caioa\\anaconda3\\lib\\site-packages (from tensorflow) (1.17.0)\n",
            "Requirement already satisfied: grpcio<2.0,>=1.24.3 in c:\\users\\caioa\\anaconda3\\lib\\site-packages (from tensorflow) (1.74.0)\n",
            "Requirement already satisfied: tensorboard~=2.20.0 in c:\\users\\caioa\\anaconda3\\lib\\site-packages (from tensorflow) (2.20.0)\n",
            "Requirement already satisfied: keras>=3.10.0 in c:\\users\\caioa\\anaconda3\\lib\\site-packages (from tensorflow) (3.11.1)\n",
            "Requirement already satisfied: numpy>=1.26.0 in c:\\users\\caioa\\anaconda3\\lib\\site-packages (from tensorflow) (2.1.3)\n",
            "Requirement already satisfied: h5py>=3.11.0 in c:\\users\\caioa\\anaconda3\\lib\\site-packages (from tensorflow) (3.12.1)\n",
            "Requirement already satisfied: ml_dtypes<1.0.0,>=0.5.1 in c:\\users\\caioa\\anaconda3\\lib\\site-packages (from tensorflow) (0.5.3)\n",
            "Requirement already satisfied: charset-normalizer<4,>=2 in c:\\users\\caioa\\anaconda3\\lib\\site-packages (from requests<3,>=2.21.0->tensorflow) (3.3.2)\n",
            "Requirement already satisfied: idna<4,>=2.5 in c:\\users\\caioa\\anaconda3\\lib\\site-packages (from requests<3,>=2.21.0->tensorflow) (3.7)\n",
            "Requirement already satisfied: urllib3<3,>=1.21.1 in c:\\users\\caioa\\anaconda3\\lib\\site-packages (from requests<3,>=2.21.0->tensorflow) (2.3.0)\n",
            "Requirement already satisfied: certifi>=2017.4.17 in c:\\users\\caioa\\anaconda3\\lib\\site-packages (from requests<3,>=2.21.0->tensorflow) (2025.6.15)\n",
            "Requirement already satisfied: markdown>=2.6.8 in c:\\users\\caioa\\anaconda3\\lib\\site-packages (from tensorboard~=2.20.0->tensorflow) (3.8)\n",
            "Requirement already satisfied: pillow in c:\\users\\caioa\\anaconda3\\lib\\site-packages (from tensorboard~=2.20.0->tensorflow) (11.1.0)\n",
            "Requirement already satisfied: tensorboard-data-server<0.8.0,>=0.7.0 in c:\\users\\caioa\\anaconda3\\lib\\site-packages (from tensorboard~=2.20.0->tensorflow) (0.7.2)\n",
            "Requirement already satisfied: werkzeug>=1.0.1 in c:\\users\\caioa\\anaconda3\\lib\\site-packages (from tensorboard~=2.20.0->tensorflow) (3.1.3)\n",
            "Requirement already satisfied: wheel<1.0,>=0.23.0 in c:\\users\\caioa\\anaconda3\\lib\\site-packages (from astunparse>=1.6.0->tensorflow) (0.45.1)\n",
            "Requirement already satisfied: rich in c:\\users\\caioa\\anaconda3\\lib\\site-packages (from keras>=3.10.0->tensorflow) (13.9.4)\n",
            "Requirement already satisfied: namex in c:\\users\\caioa\\anaconda3\\lib\\site-packages (from keras>=3.10.0->tensorflow) (0.1.0)\n",
            "Requirement already satisfied: optree in c:\\users\\caioa\\anaconda3\\lib\\site-packages (from keras>=3.10.0->tensorflow) (0.17.0)\n",
            "Requirement already satisfied: MarkupSafe>=2.1.1 in c:\\users\\caioa\\anaconda3\\lib\\site-packages (from werkzeug>=1.0.1->tensorboard~=2.20.0->tensorflow) (3.0.2)\n",
            "Requirement already satisfied: markdown-it-py>=2.2.0 in c:\\users\\caioa\\anaconda3\\lib\\site-packages (from rich->keras>=3.10.0->tensorflow) (2.2.0)\n",
            "Requirement already satisfied: pygments<3.0.0,>=2.13.0 in c:\\users\\caioa\\anaconda3\\lib\\site-packages (from rich->keras>=3.10.0->tensorflow) (2.19.1)\n",
            "Requirement already satisfied: mdurl~=0.1 in c:\\users\\caioa\\anaconda3\\lib\\site-packages (from markdown-it-py>=2.2.0->rich->keras>=3.10.0->tensorflow) (0.1.0)\n",
            "Note: you may need to restart the kernel to use updated packages.\n"
          ]
        }
      ],
      "source": [
        "%pip install tensorflow"
      ]
    },
    {
      "cell_type": "code",
      "execution_count": 17,
      "metadata": {
        "colab": {
          "base_uri": "https://localhost:8080/"
        },
        "id": "xvcDXle2XShO",
        "outputId": "460450f8-7c58-4604-e6d6-e27bd801b9a4"
      },
      "outputs": [
        {
          "name": "stdout",
          "output_type": "stream",
          "text": [
            "Epoch 1/50\n"
          ]
        },
        {
          "name": "stderr",
          "output_type": "stream",
          "text": [
            "c:\\Users\\caioa\\anaconda3\\Lib\\site-packages\\keras\\src\\layers\\rnn\\rnn.py:199: UserWarning: Do not pass an `input_shape`/`input_dim` argument to a layer. When using Sequential models, prefer using an `Input(shape)` object as the first layer in the model instead.\n",
            "  super().__init__(**kwargs)\n"
          ]
        },
        {
          "name": "stdout",
          "output_type": "stream",
          "text": [
            "\u001b[1m1929/1929\u001b[0m \u001b[32m━━━━━━━━━━━━━━━━━━━━\u001b[0m\u001b[37m\u001b[0m \u001b[1m16s\u001b[0m 7ms/step - accuracy: 0.8797 - loss: 0.3264 - val_accuracy: 0.9110 - val_loss: 0.2150\n",
            "Epoch 2/50\n",
            "\u001b[1m1929/1929\u001b[0m \u001b[32m━━━━━━━━━━━━━━━━━━━━\u001b[0m\u001b[37m\u001b[0m \u001b[1m12s\u001b[0m 6ms/step - accuracy: 0.9398 - loss: 0.1546 - val_accuracy: 0.9656 - val_loss: 0.1155\n",
            "Epoch 3/50\n",
            "\u001b[1m1929/1929\u001b[0m \u001b[32m━━━━━━━━━━━━━━━━━━━━\u001b[0m\u001b[37m\u001b[0m \u001b[1m13s\u001b[0m 6ms/step - accuracy: 0.9666 - loss: 0.1001 - val_accuracy: 0.9721 - val_loss: 0.0840\n",
            "Epoch 4/50\n",
            "\u001b[1m1929/1929\u001b[0m \u001b[32m━━━━━━━━━━━━━━━━━━━━\u001b[0m\u001b[37m\u001b[0m \u001b[1m13s\u001b[0m 7ms/step - accuracy: 0.9713 - loss: 0.0819 - val_accuracy: 0.9739 - val_loss: 0.0703\n",
            "Epoch 5/50\n",
            "\u001b[1m1929/1929\u001b[0m \u001b[32m━━━━━━━━━━━━━━━━━━━━\u001b[0m\u001b[37m\u001b[0m \u001b[1m12s\u001b[0m 6ms/step - accuracy: 0.9737 - loss: 0.0721 - val_accuracy: 0.9757 - val_loss: 0.0621\n",
            "Epoch 6/50\n",
            "\u001b[1m1929/1929\u001b[0m \u001b[32m━━━━━━━━━━━━━━━━━━━━\u001b[0m\u001b[37m\u001b[0m \u001b[1m12s\u001b[0m 6ms/step - accuracy: 0.9749 - loss: 0.0665 - val_accuracy: 0.9785 - val_loss: 0.0578\n",
            "Epoch 7/50\n",
            "\u001b[1m1929/1929\u001b[0m \u001b[32m━━━━━━━━━━━━━━━━━━━━\u001b[0m\u001b[37m\u001b[0m \u001b[1m13s\u001b[0m 7ms/step - accuracy: 0.9764 - loss: 0.0635 - val_accuracy: 0.9802 - val_loss: 0.0556\n",
            "Epoch 8/50\n",
            "\u001b[1m1929/1929\u001b[0m \u001b[32m━━━━━━━━━━━━━━━━━━━━\u001b[0m\u001b[37m\u001b[0m \u001b[1m13s\u001b[0m 7ms/step - accuracy: 0.9756 - loss: 0.0618 - val_accuracy: 0.9795 - val_loss: 0.0548\n",
            "Epoch 9/50\n",
            "\u001b[1m1929/1929\u001b[0m \u001b[32m━━━━━━━━━━━━━━━━━━━━\u001b[0m\u001b[37m\u001b[0m \u001b[1m13s\u001b[0m 7ms/step - accuracy: 0.9755 - loss: 0.0609 - val_accuracy: 0.9788 - val_loss: 0.0552\n",
            "Epoch 10/50\n",
            "\u001b[1m1929/1929\u001b[0m \u001b[32m━━━━━━━━━━━━━━━━━━━━\u001b[0m\u001b[37m\u001b[0m \u001b[1m13s\u001b[0m 6ms/step - accuracy: 0.9746 - loss: 0.0609 - val_accuracy: 0.9745 - val_loss: 0.0568\n",
            "Epoch 11/50\n",
            "\u001b[1m1929/1929\u001b[0m \u001b[32m━━━━━━━━━━━━━━━━━━━━\u001b[0m\u001b[37m\u001b[0m \u001b[1m12s\u001b[0m 6ms/step - accuracy: 0.9747 - loss: 0.0607 - val_accuracy: 0.9765 - val_loss: 0.0537\n",
            "Epoch 12/50\n",
            "\u001b[1m1929/1929\u001b[0m \u001b[32m━━━━━━━━━━━━━━━━━━━━\u001b[0m\u001b[37m\u001b[0m \u001b[1m13s\u001b[0m 6ms/step - accuracy: 0.9750 - loss: 0.0601 - val_accuracy: 0.9775 - val_loss: 0.0551\n",
            "Epoch 13/50\n",
            "\u001b[1m1929/1929\u001b[0m \u001b[32m━━━━━━━━━━━━━━━━━━━━\u001b[0m\u001b[37m\u001b[0m \u001b[1m13s\u001b[0m 7ms/step - accuracy: 0.9748 - loss: 0.0603 - val_accuracy: 0.9782 - val_loss: 0.0559\n",
            "Epoch 14/50\n",
            "\u001b[1m1929/1929\u001b[0m \u001b[32m━━━━━━━━━━━━━━━━━━━━\u001b[0m\u001b[37m\u001b[0m \u001b[1m13s\u001b[0m 7ms/step - accuracy: 0.9741 - loss: 0.0606 - val_accuracy: 0.9761 - val_loss: 0.0544\n",
            "\u001b[1m603/603\u001b[0m \u001b[32m━━━━━━━━━━━━━━━━━━━━\u001b[0m\u001b[37m\u001b[0m \u001b[1m2s\u001b[0m 3ms/step\n",
            "LSTM Accuracy: 0.9749\n",
            "LSTM Precision: 0.9175\n",
            "LSTM Recall: 0.9124\n",
            "LSTM Confusion Matrix:\n",
            "[[16200   234]\n",
            " [  250  2603]]\n"
          ]
        }
      ],
      "source": [
        "from sklearn.model_selection import train_test_split\n",
        "from sklearn.metrics import accuracy_score, precision_score, recall_score, confusion_matrix\n",
        "from tensorflow.keras.models import Sequential\n",
        "from tensorflow.keras.layers import LSTM, Dense, Dropout\n",
        "from tensorflow.keras.callbacks import EarlyStopping\n",
        "\n",
        "# Prepare data: separate features and target\n",
        "X = X_scaled_df.drop(columns=['flood']).values  # convert to numpy array immediately\n",
        "y = X_scaled_df['flood'].values\n",
        "\n",
        "# Split data into training and testing sets\n",
        "X_train, X_test, y_train, y_test = train_test_split(\n",
        "    X, y, test_size=0.2, stratify=y, random_state=42\n",
        ")\n",
        "\n",
        "# Reshape input data for LSTM: [samples, time steps, features]\n",
        "# Here time steps=1 because every sample is considered independent here\n",
        "X_train = X_train.reshape((X_train.shape[0], 1, X_train.shape[1]))\n",
        "X_test = X_test.reshape((X_test.shape[0], 1, X_test.shape[1]))\n",
        "\n",
        "# Define and compile the LSTM model\n",
        "model = Sequential([\n",
        "    LSTM(100, input_shape=(X_train.shape[1], X_train.shape[2])),\n",
        "    Dropout(0.2),\n",
        "    Dense(1, activation='sigmoid')\n",
        "])\n",
        "model.compile(loss='binary_crossentropy', optimizer='adam', metrics=['accuracy'])\n",
        "\n",
        "early_stop = EarlyStopping(monitor='val_loss', patience=3, restore_best_weights=True)\n",
        "\n",
        "# Train the model\n",
        "model.fit(X_train, y_train, epochs=50, batch_size=32, validation_split=0.2, callbacks = [early_stop])\n",
        "\n",
        "# Predict and threshold to binary outputs\n",
        "y_pred = (model.predict(X_test) > 0.5).astype(int)\n",
        "\n",
        "# Evaluate predictions\n",
        "accuracy = accuracy_score(y_test, y_pred)\n",
        "precision = precision_score(y_test, y_pred)\n",
        "recall = recall_score(y_test, y_pred)\n",
        "conf_matrix = confusion_matrix(y_test, y_pred)\n",
        "\n",
        "# Report results\n",
        "print(f\"LSTM Accuracy: {accuracy:.4f}\")\n",
        "print(f\"LSTM Precision: {precision:.4f}\")\n",
        "print(f\"LSTM Recall: {recall:.4f}\")\n",
        "print(\"LSTM Confusion Matrix:\")\n",
        "print(conf_matrix)\n"
      ]
    }
  ],
  "metadata": {
    "accelerator": "TPU",
    "colab": {
      "gpuType": "V28",
      "provenance": []
    },
    "kernelspec": {
      "display_name": "base",
      "language": "python",
      "name": "python3"
    },
    "language_info": {
      "codemirror_mode": {
        "name": "ipython",
        "version": 3
      },
      "file_extension": ".py",
      "mimetype": "text/x-python",
      "name": "python",
      "nbconvert_exporter": "python",
      "pygments_lexer": "ipython3",
      "version": "3.13.5"
    }
  },
  "nbformat": 4,
  "nbformat_minor": 0
}
