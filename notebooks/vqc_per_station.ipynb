{
 "cells": [
  {
   "cell_type": "markdown",
   "id": "8f702a13",
   "metadata": {},
   "source": [
    "# Variational Quantum Classifier – Per Station\n",
    "*Generated 2025-08-07 15:57*\n",
    "\n",
    "This notebook trains one VQC per hydrological station using:\n",
    "* Balanced flood / non‑flood undersampling (50/50)\n",
    "* PCA to at most 15 qubits\n",
    "* 2 Strongly‑Entangling layers, 30 epochs, mini‑batch 128\n",
    "* `OMP_NUM_THREADS=1` to avoid OpenMP crashes on Apple Silicon\n"
   ]
  },
  {
   "cell_type": "code",
   "execution_count": 1,
   "id": "4eacb210",
   "metadata": {},
   "outputs": [],
   "source": [
    "import os, warnings\n",
    "os.environ[\"OMP_NUM_THREADS\"]=\"4\"   # keep MKL/OpenMP under control\n",
    "warnings.filterwarnings(\"ignore\")\n"
   ]
  },
  {
   "cell_type": "code",
   "execution_count": 2,
   "id": "5649ba9d",
   "metadata": {},
   "outputs": [],
   "source": [
    "import pennylane as qml\n",
    "from pennylane import numpy as pnp\n",
    "import numpy as np\n",
    "import pandas as pd\n",
    "from pathlib import Path\n",
    "from sklearn.preprocessing import StandardScaler\n",
    "from sklearn.decomposition import PCA\n",
    "from sklearn.utils import resample\n",
    "from sklearn.model_selection import train_test_split\n",
    "from sklearn.metrics import accuracy_score, precision_score, recall_score, confusion_matrix\n"
   ]
  },
  {
   "cell_type": "code",
   "execution_count": 3,
   "id": "f9998b86",
   "metadata": {},
   "outputs": [],
   "source": [
    "# --- USER CONFIG -----------------------------------------------------\n",
    "PROJECT_ROOT = Path.cwd() if (Path.cwd()/'data').exists() else Path.cwd().parent\n",
    "DATA_RAW = PROJECT_ROOT/'data'/'raw'  # adjust if needed\n",
    "STATIONS = ['D08A071','D08A084','D08A115']\n",
    "SEED = 42\n",
    "PERCENTILE = 0.92\n",
    "ROLL_WINDOWS=[3,6,12]\n",
    "LAG_HRS=range(1,13)\n",
    "API_WINDOW=24*7\n",
    "np.random.seed(SEED)\n"
   ]
  },
  {
   "cell_type": "code",
   "execution_count": 4,
   "id": "55bf286e",
   "metadata": {},
   "outputs": [],
   "source": [
    "def find_csv(code):\n",
    "    p = DATA_RAW / f'station_{code}'\n",
    "    files = list(p.glob('*.csv'))\n",
    "    assert len(files)==1, f'{code}: CSV not found'\n",
    "    return files[0]\n",
    "def load_station(code):\n",
    "    df = pd.read_csv(find_csv(code))\n",
    "    df['datetime'] = pd.to_datetime(df['saatlik'])\n",
    "    df = (df.rename(columns={'yagis_toplam':'rain_mm','qdeger':'discharge_cms'})\n",
    "            .set_index('datetime').sort_index()\n",
    "            .resample('h').agg({'rain_mm':'sum','discharge_cms':'mean'}))\n",
    "    return df\n",
    "\n",
    "def build_features(df):\n",
    "    st=df.copy()\n",
    "    for w in ROLL_WINDOWS:\n",
    "        st[f'rain_sum_{w}h']=st['rain_mm'].rolling(w,1).sum()\n",
    "    for l in LAG_HRS:\n",
    "        st[f'dis_lag_{l}h']=st['discharge_cms'].shift(l)\n",
    "    st['dis_rate_1h']=st['discharge_cms'].diff(1)\n",
    "    st['dis_rate_3h']=st['discharge_cms'].diff(3)\n",
    "    st['API7']=st['rain_mm'].rolling(API_WINDOW,1).sum()\n",
    "    st.dropna(inplace=True)\n",
    "    thr=st['discharge_cms'].quantile(PERCENTILE)\n",
    "    st['flood']=(st['discharge_cms']>thr).astype(int)\n",
    "    return st\n"
   ]
  },
  {
   "cell_type": "code",
   "execution_count": 5,
   "id": "fc668a3b",
   "metadata": {},
   "outputs": [],
   "source": [
    "\n",
    "def train_vqc(X_tr,y_tr,X_val,y_val,n_qubits,epochs=30,batch=64,patience=5):\n",
    "    dev= qml.device('lightning.qubit', wires=n_qubits)\n",
    "    @qml.qnode(dev, interface='autograd', diff_method='adjoint')\n",
    "    def circuit(x,w):\n",
    "        qml.templates.AngleEmbedding(x, wires=range(n_qubits))\n",
    "        qml.templates.StronglyEntanglingLayers(w, wires=range(n_qubits))\n",
    "        return qml.expval(qml.PauliZ(0))\n",
    "    w_shape=qml.templates.StronglyEntanglingLayers.shape(2,n_wires=n_qubits)\n",
    "    w=pnp.random.random(w_shape, requires_grad=True)\n",
    "    opt=qml.AdamOptimizer(0.01)\n",
    "    eps=1e-7\n",
    "    def bce(weights, xb, yb):\n",
    "        logits=pnp.array([circuit(xi,weights) for xi in xb])\n",
    "        p   =(logits+1)/2          # map -1..1 → 0..1\n",
    "        return -pnp.mean(yb*pnp.log(p+eps)+(1-yb)*pnp.log(1-p+eps))\n",
    "    best=1e9; wait=0\n",
    "    for ep in range(epochs):\n",
    "        perm=np.random.permutation(len(X_tr))\n",
    "        for s in range(0,len(X_tr),batch):\n",
    "            idx=perm[s:s+batch]\n",
    "            w=opt.step(lambda ww: bce(ww,X_tr[idx],y_tr[idx]), w)\n",
    "        val=bce(w,X_val,y_val)\n",
    "        if val<best-1e-4: best=val; wait=0\n",
    "        else:\n",
    "            wait+=1\n",
    "            if wait>=patience: break\n",
    "        if ep%5==0: print(f\"epoch {ep:2d} val {val:.4f}\")\n",
    "    return w,circuit\n"
   ]
  },
  {
   "cell_type": "code",
   "execution_count": 6,
   "id": "a2d465c4",
   "metadata": {},
   "outputs": [
    {
     "name": "stdout",
     "output_type": "stream",
     "text": [
      "\n",
      "=== D08A071 ===\n",
      "epoch  0 val 0.6848\n",
      "epoch  5 val 0.2604\n",
      "epoch 10 val 0.2596\n",
      "[[357  15]\n",
      " [ 60 312]]\n",
      "\n",
      "=== D08A084 ===\n",
      "epoch  0 val 0.6479\n",
      "epoch  5 val 0.4695\n",
      "epoch 10 val 0.4686\n",
      "epoch 15 val 0.4682\n",
      "[[472  26]\n",
      " [270 228]]\n",
      "\n",
      "=== D08A115 ===\n",
      "epoch  0 val 0.6944\n",
      "epoch  5 val 0.4900\n",
      "epoch 10 val 0.4796\n",
      "epoch 15 val 0.4713\n",
      "epoch 20 val 0.4701\n",
      "[[321  25]\n",
      " [160 186]]\n",
      "\n",
      "Summary\n",
      "D08A071  Acc 0.899  Prec 0.954  Rec 0.839\n",
      "D08A084  Acc 0.703  Prec 0.898  Rec 0.458\n",
      "D08A115  Acc 0.733  Prec 0.882  Rec 0.538\n"
     ]
    }
   ],
   "source": [
    "\n",
    "summary=[]\n",
    "for code in STATIONS:\n",
    "    print(f\"\\n=== {code} ===\")\n",
    "    df=build_features(load_station(code))\n",
    "    feats=[c for c in df.columns if c.startswith(('rain_sum','dis_lag','dis_rate','API'))]\n",
    "    X=df[feats].values\n",
    "    X=(X-X.mean(0))/X.std(0)\n",
    "    y=df['flood'].values\n",
    "    pos=np.where(y==1)[0]\n",
    "    neg=np.random.choice(np.where(y==0)[0],size=len(pos),replace=False)\n",
    "    idx=np.concatenate([pos,neg])\n",
    "    X_bal,y_bal=X[idx],y[idx]\n",
    "    n_qubits=min(10,X_bal.shape[1])\n",
    "    X_bal=PCA(n_components=n_qubits,random_state=SEED).fit_transform(X_bal)\n",
    "    X_tr,X_tmp,y_tr,y_tmp=train_test_split(X_bal,y_bal,test_size=0.4,random_state=SEED,stratify=y_bal)\n",
    "    X_val,X_te,y_val,y_te=train_test_split(X_tmp,y_tmp,test_size=0.5,random_state=SEED,stratify=y_tmp)\n",
    "    X_tr=pnp.array(X_tr,dtype=np.float32); y_tr=pnp.array(y_tr,dtype=np.float32)\n",
    "    X_val=pnp.array(X_val,dtype=np.float32); y_val=pnp.array(y_val,dtype=np.float32)\n",
    "    w,circ=train_vqc(X_tr,y_tr,X_val,y_val,n_qubits)\n",
    "    probs=np.array([circ(x,w) for x in X_te])\n",
    "    y_pred=(probs>0).astype(int)   # threshold 0\n",
    "    acc=accuracy_score(y_te,y_pred)\n",
    "    prec=precision_score(y_te,y_pred,zero_division=0)\n",
    "    rec=recall_score(y_te,y_pred)\n",
    "    cm=confusion_matrix(y_te,y_pred,labels=[0,1])\n",
    "    print(cm)\n",
    "    summary.append([code,acc,prec,rec])\n",
    "print(\"\\nSummary\")\n",
    "for s in summary:\n",
    "    print(f\"{s[0]}  Acc {s[1]:.3f}  Prec {s[2]:.3f}  Rec {s[3]:.3f}\")\n"
   ]
  }
 ],
 "metadata": {
  "kernelspec": {
   "display_name": ".venv",
   "language": "python",
   "name": "python3"
  },
  "language_info": {
   "codemirror_mode": {
    "name": "ipython",
    "version": 3
   },
   "file_extension": ".py",
   "mimetype": "text/x-python",
   "name": "python",
   "nbconvert_exporter": "python",
   "pygments_lexer": "ipython3",
   "version": "3.12.5"
  }
 },
 "nbformat": 4,
 "nbformat_minor": 5
}
